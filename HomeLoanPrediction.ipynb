{
 "cells": [
  {
   "cell_type": "code",
   "execution_count": 1,
   "id": "af08df48",
   "metadata": {},
   "outputs": [
    {
     "name": "stdout",
     "output_type": "stream",
     "text": [
      "C:\\Users\\RAM\n"
     ]
    }
   ],
   "source": [
    "import numpy as np\n",
    "import pandas as pd\n",
    "import matplotlib.pyplot as plt\n",
    "import seaborn as sns\n",
    "import os\n",
    "\n",
    "print(os.getcwd())\n",
    "\n",
    "import warnings\n",
    "warnings.filterwarnings('ignore')\n"
   ]
  },
  {
   "cell_type": "code",
   "execution_count": 2,
   "id": "f196c1de",
   "metadata": {},
   "outputs": [
    {
     "data": {
      "text/html": [
       "<div>\n",
       "<style scoped>\n",
       "    .dataframe tbody tr th:only-of-type {\n",
       "        vertical-align: middle;\n",
       "    }\n",
       "\n",
       "    .dataframe tbody tr th {\n",
       "        vertical-align: top;\n",
       "    }\n",
       "\n",
       "    .dataframe thead th {\n",
       "        text-align: right;\n",
       "    }\n",
       "</style>\n",
       "<table border=\"1\" class=\"dataframe\">\n",
       "  <thead>\n",
       "    <tr style=\"text-align: right;\">\n",
       "      <th></th>\n",
       "      <th>Loan_ID</th>\n",
       "      <th>Gender</th>\n",
       "      <th>Married</th>\n",
       "      <th>Dependents</th>\n",
       "      <th>Education</th>\n",
       "      <th>Self_Employed</th>\n",
       "      <th>ApplicantIncome</th>\n",
       "      <th>CoapplicantIncome</th>\n",
       "      <th>LoanAmount</th>\n",
       "      <th>Loan_Amount_Term</th>\n",
       "      <th>Credit_History</th>\n",
       "      <th>Property_Area</th>\n",
       "      <th>Loan_Status</th>\n",
       "    </tr>\n",
       "  </thead>\n",
       "  <tbody>\n",
       "    <tr>\n",
       "      <th>0</th>\n",
       "      <td>LP001002</td>\n",
       "      <td>Male</td>\n",
       "      <td>No</td>\n",
       "      <td>0</td>\n",
       "      <td>Graduate</td>\n",
       "      <td>No</td>\n",
       "      <td>5849</td>\n",
       "      <td>0.0</td>\n",
       "      <td>NaN</td>\n",
       "      <td>360.0</td>\n",
       "      <td>1.0</td>\n",
       "      <td>Urban</td>\n",
       "      <td>Y</td>\n",
       "    </tr>\n",
       "    <tr>\n",
       "      <th>1</th>\n",
       "      <td>LP001003</td>\n",
       "      <td>Male</td>\n",
       "      <td>Yes</td>\n",
       "      <td>1</td>\n",
       "      <td>Graduate</td>\n",
       "      <td>No</td>\n",
       "      <td>4583</td>\n",
       "      <td>1508.0</td>\n",
       "      <td>128.0</td>\n",
       "      <td>360.0</td>\n",
       "      <td>1.0</td>\n",
       "      <td>Rural</td>\n",
       "      <td>N</td>\n",
       "    </tr>\n",
       "    <tr>\n",
       "      <th>2</th>\n",
       "      <td>LP001005</td>\n",
       "      <td>Male</td>\n",
       "      <td>Yes</td>\n",
       "      <td>0</td>\n",
       "      <td>Graduate</td>\n",
       "      <td>Yes</td>\n",
       "      <td>3000</td>\n",
       "      <td>0.0</td>\n",
       "      <td>66.0</td>\n",
       "      <td>360.0</td>\n",
       "      <td>1.0</td>\n",
       "      <td>Urban</td>\n",
       "      <td>Y</td>\n",
       "    </tr>\n",
       "    <tr>\n",
       "      <th>3</th>\n",
       "      <td>LP001006</td>\n",
       "      <td>Male</td>\n",
       "      <td>Yes</td>\n",
       "      <td>0</td>\n",
       "      <td>Not Graduate</td>\n",
       "      <td>No</td>\n",
       "      <td>2583</td>\n",
       "      <td>2358.0</td>\n",
       "      <td>120.0</td>\n",
       "      <td>360.0</td>\n",
       "      <td>1.0</td>\n",
       "      <td>Urban</td>\n",
       "      <td>Y</td>\n",
       "    </tr>\n",
       "    <tr>\n",
       "      <th>4</th>\n",
       "      <td>LP001008</td>\n",
       "      <td>Male</td>\n",
       "      <td>No</td>\n",
       "      <td>0</td>\n",
       "      <td>Graduate</td>\n",
       "      <td>No</td>\n",
       "      <td>6000</td>\n",
       "      <td>0.0</td>\n",
       "      <td>141.0</td>\n",
       "      <td>360.0</td>\n",
       "      <td>1.0</td>\n",
       "      <td>Urban</td>\n",
       "      <td>Y</td>\n",
       "    </tr>\n",
       "    <tr>\n",
       "      <th>...</th>\n",
       "      <td>...</td>\n",
       "      <td>...</td>\n",
       "      <td>...</td>\n",
       "      <td>...</td>\n",
       "      <td>...</td>\n",
       "      <td>...</td>\n",
       "      <td>...</td>\n",
       "      <td>...</td>\n",
       "      <td>...</td>\n",
       "      <td>...</td>\n",
       "      <td>...</td>\n",
       "      <td>...</td>\n",
       "      <td>...</td>\n",
       "    </tr>\n",
       "    <tr>\n",
       "      <th>609</th>\n",
       "      <td>LP002978</td>\n",
       "      <td>Female</td>\n",
       "      <td>No</td>\n",
       "      <td>0</td>\n",
       "      <td>Graduate</td>\n",
       "      <td>No</td>\n",
       "      <td>2900</td>\n",
       "      <td>0.0</td>\n",
       "      <td>71.0</td>\n",
       "      <td>360.0</td>\n",
       "      <td>1.0</td>\n",
       "      <td>Rural</td>\n",
       "      <td>Y</td>\n",
       "    </tr>\n",
       "    <tr>\n",
       "      <th>610</th>\n",
       "      <td>LP002979</td>\n",
       "      <td>Male</td>\n",
       "      <td>Yes</td>\n",
       "      <td>3+</td>\n",
       "      <td>Graduate</td>\n",
       "      <td>No</td>\n",
       "      <td>4106</td>\n",
       "      <td>0.0</td>\n",
       "      <td>40.0</td>\n",
       "      <td>180.0</td>\n",
       "      <td>1.0</td>\n",
       "      <td>Rural</td>\n",
       "      <td>Y</td>\n",
       "    </tr>\n",
       "    <tr>\n",
       "      <th>611</th>\n",
       "      <td>LP002983</td>\n",
       "      <td>Male</td>\n",
       "      <td>Yes</td>\n",
       "      <td>1</td>\n",
       "      <td>Graduate</td>\n",
       "      <td>No</td>\n",
       "      <td>8072</td>\n",
       "      <td>240.0</td>\n",
       "      <td>253.0</td>\n",
       "      <td>360.0</td>\n",
       "      <td>1.0</td>\n",
       "      <td>Urban</td>\n",
       "      <td>Y</td>\n",
       "    </tr>\n",
       "    <tr>\n",
       "      <th>612</th>\n",
       "      <td>LP002984</td>\n",
       "      <td>Male</td>\n",
       "      <td>Yes</td>\n",
       "      <td>2</td>\n",
       "      <td>Graduate</td>\n",
       "      <td>No</td>\n",
       "      <td>7583</td>\n",
       "      <td>0.0</td>\n",
       "      <td>187.0</td>\n",
       "      <td>360.0</td>\n",
       "      <td>1.0</td>\n",
       "      <td>Urban</td>\n",
       "      <td>Y</td>\n",
       "    </tr>\n",
       "    <tr>\n",
       "      <th>613</th>\n",
       "      <td>LP002990</td>\n",
       "      <td>Female</td>\n",
       "      <td>No</td>\n",
       "      <td>0</td>\n",
       "      <td>Graduate</td>\n",
       "      <td>Yes</td>\n",
       "      <td>4583</td>\n",
       "      <td>0.0</td>\n",
       "      <td>133.0</td>\n",
       "      <td>360.0</td>\n",
       "      <td>0.0</td>\n",
       "      <td>Semiurban</td>\n",
       "      <td>N</td>\n",
       "    </tr>\n",
       "  </tbody>\n",
       "</table>\n",
       "<p>614 rows × 13 columns</p>\n",
       "</div>"
      ],
      "text/plain": [
       "      Loan_ID  Gender Married Dependents     Education Self_Employed  \\\n",
       "0    LP001002    Male      No          0      Graduate            No   \n",
       "1    LP001003    Male     Yes          1      Graduate            No   \n",
       "2    LP001005    Male     Yes          0      Graduate           Yes   \n",
       "3    LP001006    Male     Yes          0  Not Graduate            No   \n",
       "4    LP001008    Male      No          0      Graduate            No   \n",
       "..        ...     ...     ...        ...           ...           ...   \n",
       "609  LP002978  Female      No          0      Graduate            No   \n",
       "610  LP002979    Male     Yes         3+      Graduate            No   \n",
       "611  LP002983    Male     Yes          1      Graduate            No   \n",
       "612  LP002984    Male     Yes          2      Graduate            No   \n",
       "613  LP002990  Female      No          0      Graduate           Yes   \n",
       "\n",
       "     ApplicantIncome  CoapplicantIncome  LoanAmount  Loan_Amount_Term  \\\n",
       "0               5849                0.0         NaN             360.0   \n",
       "1               4583             1508.0       128.0             360.0   \n",
       "2               3000                0.0        66.0             360.0   \n",
       "3               2583             2358.0       120.0             360.0   \n",
       "4               6000                0.0       141.0             360.0   \n",
       "..               ...                ...         ...               ...   \n",
       "609             2900                0.0        71.0             360.0   \n",
       "610             4106                0.0        40.0             180.0   \n",
       "611             8072              240.0       253.0             360.0   \n",
       "612             7583                0.0       187.0             360.0   \n",
       "613             4583                0.0       133.0             360.0   \n",
       "\n",
       "     Credit_History Property_Area Loan_Status  \n",
       "0               1.0         Urban           Y  \n",
       "1               1.0         Rural           N  \n",
       "2               1.0         Urban           Y  \n",
       "3               1.0         Urban           Y  \n",
       "4               1.0         Urban           Y  \n",
       "..              ...           ...         ...  \n",
       "609             1.0         Rural           Y  \n",
       "610             1.0         Rural           Y  \n",
       "611             1.0         Urban           Y  \n",
       "612             1.0         Urban           Y  \n",
       "613             0.0     Semiurban           N  \n",
       "\n",
       "[614 rows x 13 columns]"
      ]
     },
     "execution_count": 2,
     "metadata": {},
     "output_type": "execute_result"
    }
   ],
   "source": [
    "data = pd.read_csv('C:\\\\Users\\\\RAM\\\\Downloads\\\\archive\\\\Loan_Data.csv')\n",
    "data "
   ]
  },
  {
   "cell_type": "code",
   "execution_count": 3,
   "id": "1ad2444d-646b-498d-a492-c91bdb29fb18",
   "metadata": {},
   "outputs": [
    {
     "data": {
      "text/html": [
       "<div>\n",
       "<style scoped>\n",
       "    .dataframe tbody tr th:only-of-type {\n",
       "        vertical-align: middle;\n",
       "    }\n",
       "\n",
       "    .dataframe tbody tr th {\n",
       "        vertical-align: top;\n",
       "    }\n",
       "\n",
       "    .dataframe thead th {\n",
       "        text-align: right;\n",
       "    }\n",
       "</style>\n",
       "<table border=\"1\" class=\"dataframe\">\n",
       "  <thead>\n",
       "    <tr style=\"text-align: right;\">\n",
       "      <th></th>\n",
       "      <th>Loan_ID</th>\n",
       "      <th>Gender</th>\n",
       "      <th>Married</th>\n",
       "      <th>Dependents</th>\n",
       "      <th>Education</th>\n",
       "      <th>Self_Employed</th>\n",
       "      <th>ApplicantIncome</th>\n",
       "      <th>CoapplicantIncome</th>\n",
       "      <th>LoanAmount</th>\n",
       "      <th>Loan_Amount_Term</th>\n",
       "      <th>Credit_History</th>\n",
       "      <th>Property_Area</th>\n",
       "      <th>Loan_Status</th>\n",
       "    </tr>\n",
       "  </thead>\n",
       "  <tbody>\n",
       "    <tr>\n",
       "      <th>0</th>\n",
       "      <td>LP001002</td>\n",
       "      <td>Male</td>\n",
       "      <td>No</td>\n",
       "      <td>0</td>\n",
       "      <td>Graduate</td>\n",
       "      <td>No</td>\n",
       "      <td>5849</td>\n",
       "      <td>0.0</td>\n",
       "      <td>NaN</td>\n",
       "      <td>360.0</td>\n",
       "      <td>1.0</td>\n",
       "      <td>Urban</td>\n",
       "      <td>Y</td>\n",
       "    </tr>\n",
       "    <tr>\n",
       "      <th>1</th>\n",
       "      <td>LP001003</td>\n",
       "      <td>Male</td>\n",
       "      <td>Yes</td>\n",
       "      <td>1</td>\n",
       "      <td>Graduate</td>\n",
       "      <td>No</td>\n",
       "      <td>4583</td>\n",
       "      <td>1508.0</td>\n",
       "      <td>128.0</td>\n",
       "      <td>360.0</td>\n",
       "      <td>1.0</td>\n",
       "      <td>Rural</td>\n",
       "      <td>N</td>\n",
       "    </tr>\n",
       "    <tr>\n",
       "      <th>2</th>\n",
       "      <td>LP001005</td>\n",
       "      <td>Male</td>\n",
       "      <td>Yes</td>\n",
       "      <td>0</td>\n",
       "      <td>Graduate</td>\n",
       "      <td>Yes</td>\n",
       "      <td>3000</td>\n",
       "      <td>0.0</td>\n",
       "      <td>66.0</td>\n",
       "      <td>360.0</td>\n",
       "      <td>1.0</td>\n",
       "      <td>Urban</td>\n",
       "      <td>Y</td>\n",
       "    </tr>\n",
       "    <tr>\n",
       "      <th>3</th>\n",
       "      <td>LP001006</td>\n",
       "      <td>Male</td>\n",
       "      <td>Yes</td>\n",
       "      <td>0</td>\n",
       "      <td>Not Graduate</td>\n",
       "      <td>No</td>\n",
       "      <td>2583</td>\n",
       "      <td>2358.0</td>\n",
       "      <td>120.0</td>\n",
       "      <td>360.0</td>\n",
       "      <td>1.0</td>\n",
       "      <td>Urban</td>\n",
       "      <td>Y</td>\n",
       "    </tr>\n",
       "    <tr>\n",
       "      <th>4</th>\n",
       "      <td>LP001008</td>\n",
       "      <td>Male</td>\n",
       "      <td>No</td>\n",
       "      <td>0</td>\n",
       "      <td>Graduate</td>\n",
       "      <td>No</td>\n",
       "      <td>6000</td>\n",
       "      <td>0.0</td>\n",
       "      <td>141.0</td>\n",
       "      <td>360.0</td>\n",
       "      <td>1.0</td>\n",
       "      <td>Urban</td>\n",
       "      <td>Y</td>\n",
       "    </tr>\n",
       "  </tbody>\n",
       "</table>\n",
       "</div>"
      ],
      "text/plain": [
       "    Loan_ID Gender Married Dependents     Education Self_Employed  \\\n",
       "0  LP001002   Male      No          0      Graduate            No   \n",
       "1  LP001003   Male     Yes          1      Graduate            No   \n",
       "2  LP001005   Male     Yes          0      Graduate           Yes   \n",
       "3  LP001006   Male     Yes          0  Not Graduate            No   \n",
       "4  LP001008   Male      No          0      Graduate            No   \n",
       "\n",
       "   ApplicantIncome  CoapplicantIncome  LoanAmount  Loan_Amount_Term  \\\n",
       "0             5849                0.0         NaN             360.0   \n",
       "1             4583             1508.0       128.0             360.0   \n",
       "2             3000                0.0        66.0             360.0   \n",
       "3             2583             2358.0       120.0             360.0   \n",
       "4             6000                0.0       141.0             360.0   \n",
       "\n",
       "   Credit_History Property_Area Loan_Status  \n",
       "0             1.0         Urban           Y  \n",
       "1             1.0         Rural           N  \n",
       "2             1.0         Urban           Y  \n",
       "3             1.0         Urban           Y  \n",
       "4             1.0         Urban           Y  "
      ]
     },
     "execution_count": 3,
     "metadata": {},
     "output_type": "execute_result"
    }
   ],
   "source": [
    "data.head()"
   ]
  },
  {
   "cell_type": "code",
   "execution_count": 4,
   "id": "f9cf90b9",
   "metadata": {},
   "outputs": [
    {
     "name": "stdout",
     "output_type": "stream",
     "text": [
      "<class 'pandas.core.frame.DataFrame'>\n",
      "RangeIndex: 614 entries, 0 to 613\n",
      "Data columns (total 13 columns):\n",
      " #   Column             Non-Null Count  Dtype  \n",
      "---  ------             --------------  -----  \n",
      " 0   Loan_ID            614 non-null    object \n",
      " 1   Gender             601 non-null    object \n",
      " 2   Married            611 non-null    object \n",
      " 3   Dependents         599 non-null    object \n",
      " 4   Education          614 non-null    object \n",
      " 5   Self_Employed      582 non-null    object \n",
      " 6   ApplicantIncome    614 non-null    int64  \n",
      " 7   CoapplicantIncome  614 non-null    float64\n",
      " 8   LoanAmount         592 non-null    float64\n",
      " 9   Loan_Amount_Term   600 non-null    float64\n",
      " 10  Credit_History     564 non-null    float64\n",
      " 11  Property_Area      614 non-null    object \n",
      " 12  Loan_Status        614 non-null    object \n",
      "dtypes: float64(4), int64(1), object(8)\n",
      "memory usage: 62.5+ KB\n"
     ]
    }
   ],
   "source": [
    "data.info() "
   ]
  },
  {
   "cell_type": "code",
   "execution_count": 5,
   "id": "68aa65bf",
   "metadata": {},
   "outputs": [
    {
     "data": {
      "text/plain": [
       "Index(['Loan_ID', 'Gender', 'Married', 'Dependents', 'Education',\n",
       "       'Self_Employed', 'ApplicantIncome', 'CoapplicantIncome', 'LoanAmount',\n",
       "       'Loan_Amount_Term', 'Credit_History', 'Property_Area', 'Loan_Status'],\n",
       "      dtype='object')"
      ]
     },
     "execution_count": 5,
     "metadata": {},
     "output_type": "execute_result"
    }
   ],
   "source": [
    "data.columns"
   ]
  },
  {
   "cell_type": "code",
   "execution_count": 6,
   "id": "c7c28b19",
   "metadata": {},
   "outputs": [
    {
     "data": {
      "text/plain": [
       "614"
      ]
     },
     "execution_count": 6,
     "metadata": {},
     "output_type": "execute_result"
    }
   ],
   "source": [
    "data['Loan_ID'].nunique()"
   ]
  },
  {
   "cell_type": "code",
   "execution_count": 7,
   "id": "11d55360",
   "metadata": {},
   "outputs": [],
   "source": [
    "data.drop(columns=['Loan_ID'],inplace=True)"
   ]
  },
  {
   "cell_type": "code",
   "execution_count": 8,
   "id": "1eedbcf0",
   "metadata": {},
   "outputs": [
    {
     "data": {
      "text/plain": [
       "array(['Male', 'Female', nan], dtype=object)"
      ]
     },
     "execution_count": 8,
     "metadata": {},
     "output_type": "execute_result"
    }
   ],
   "source": [
    "data['Gender'].unique()"
   ]
  },
  {
   "cell_type": "code",
   "execution_count": 9,
   "id": "daed305b",
   "metadata": {},
   "outputs": [
    {
     "data": {
      "text/plain": [
       "Gender\n",
       "Male      489\n",
       "Female    112\n",
       "Name: count, dtype: int64"
      ]
     },
     "execution_count": 9,
     "metadata": {},
     "output_type": "execute_result"
    }
   ],
   "source": [
    "data['Gender'].value_counts()"
   ]
  },
  {
   "cell_type": "code",
   "execution_count": 10,
   "id": "1c1cd917",
   "metadata": {},
   "outputs": [
    {
     "data": {
      "text/plain": [
       "Married\n",
       "Yes    398\n",
       "No     213\n",
       "Name: count, dtype: int64"
      ]
     },
     "execution_count": 10,
     "metadata": {},
     "output_type": "execute_result"
    }
   ],
   "source": [
    "data['Married'].value_counts()"
   ]
  },
  {
   "cell_type": "code",
   "execution_count": 11,
   "id": "27d9a5a8",
   "metadata": {},
   "outputs": [
    {
     "data": {
      "text/plain": [
       "array(['0', '1', '2', '3+', nan], dtype=object)"
      ]
     },
     "execution_count": 11,
     "metadata": {},
     "output_type": "execute_result"
    }
   ],
   "source": [
    "data['Dependents'].unique()"
   ]
  },
  {
   "cell_type": "code",
   "execution_count": 12,
   "id": "829cba29",
   "metadata": {},
   "outputs": [
    {
     "data": {
      "text/plain": [
       "Dependents\n",
       "0     345\n",
       "1     102\n",
       "2     101\n",
       "3+     51\n",
       "Name: count, dtype: int64"
      ]
     },
     "execution_count": 12,
     "metadata": {},
     "output_type": "execute_result"
    }
   ],
   "source": [
    "data['Dependents'].value_counts()"
   ]
  },
  {
   "cell_type": "code",
   "execution_count": 13,
   "id": "e13871d9",
   "metadata": {},
   "outputs": [
    {
     "data": {
      "text/plain": [
       "array(['Graduate', 'Not Graduate'], dtype=object)"
      ]
     },
     "execution_count": 13,
     "metadata": {},
     "output_type": "execute_result"
    }
   ],
   "source": [
    "data['Education'].unique()"
   ]
  },
  {
   "cell_type": "code",
   "execution_count": 14,
   "id": "a40e729a",
   "metadata": {},
   "outputs": [
    {
     "data": {
      "text/plain": [
       "Education\n",
       "Graduate        480\n",
       "Not Graduate    134\n",
       "Name: count, dtype: int64"
      ]
     },
     "execution_count": 14,
     "metadata": {},
     "output_type": "execute_result"
    }
   ],
   "source": [
    "data['Education'].value_counts()"
   ]
  },
  {
   "cell_type": "code",
   "execution_count": 15,
   "id": "e8b1dfc7",
   "metadata": {},
   "outputs": [
    {
     "data": {
      "text/plain": [
       "array(['No', 'Yes', nan], dtype=object)"
      ]
     },
     "execution_count": 15,
     "metadata": {},
     "output_type": "execute_result"
    }
   ],
   "source": [
    "data['Self_Employed'].unique()"
   ]
  },
  {
   "cell_type": "code",
   "execution_count": 16,
   "id": "d10ffb30",
   "metadata": {},
   "outputs": [
    {
     "data": {
      "text/plain": [
       "Self_Employed\n",
       "No     500\n",
       "Yes     82\n",
       "Name: count, dtype: int64"
      ]
     },
     "execution_count": 16,
     "metadata": {},
     "output_type": "execute_result"
    }
   ],
   "source": [
    "data['Self_Employed'].value_counts()"
   ]
  },
  {
   "cell_type": "code",
   "execution_count": 17,
   "id": "c302d8e2",
   "metadata": {},
   "outputs": [
    {
     "data": {
      "text/plain": [
       "array([ 5849,  4583,  3000,  2583,  6000,  5417,  2333,  3036,  4006,\n",
       "       12841,  3200,  2500,  3073,  1853,  1299,  4950,  3596,  3510,\n",
       "        4887,  2600,  7660,  5955,  3365,  3717,  9560,  2799,  4226,\n",
       "        1442,  3750,  4166,  3167,  4692,  3500, 12500,  2275,  1828,\n",
       "        3667,  3748,  3600,  1800,  2400,  3941,  4695,  3410,  5649,\n",
       "        5821,  2645,  4000,  1928,  3086,  4230,  4616, 11500,  2708,\n",
       "        2132,  3366,  8080,  3357,  3029,  2609,  4945,  5726, 10750,\n",
       "        7100,  4300,  3208,  1875,  4755,  5266,  1000,  3333,  3846,\n",
       "        2395,  1378,  3988,  2366,  8566,  5695,  2958,  6250,  3273,\n",
       "        4133,  3620,  6782,  2484,  1977,  4188,  1759,  4288,  4843,\n",
       "       13650,  4652,  3816,  3052, 11417,  7333,  3800,  2071,  5316,\n",
       "        2929,  3572,  7451,  5050, 14583,  2214,  5568, 10408,  5667,\n",
       "        2137,  2957,  3692, 23803,  3865, 10513,  6080, 20166,  2014,\n",
       "        2718,  3459,  4895,  3316, 14999,  4200,  5042,  6950,  2698,\n",
       "       11757,  2330, 14866,  1538, 10000,  4860,  6277,  2577,  9166,\n",
       "        2281,  3254, 39999,  9538,  2980,  1863,  7933,  3089,  4167,\n",
       "        9323,  3707,  2439,  2237,  8000,  1820, 51763,  3522,  5708,\n",
       "        4344,  3497,  2045,  5516,  6400,  1916,  4600, 33846,  3625,\n",
       "       39147,  2178,  2383,   674,  9328,  4885, 12000,  6033,  3858,\n",
       "        4191,  3125,  8333,  1907,  3416, 11000,  4923,  3992,  3917,\n",
       "        4408,  3244,  3975,  2479,  3418,  3430,  7787,  5703,  3173,\n",
       "        3850,   150,  3727,  5000,  4283,  2221,  4009,  2971,  7578,\n",
       "        3250,  4735,  4758,  2491,  3716,  3189,  3155,  5500,  5746,\n",
       "        3463,  3812,  3315,  5819,  2510,  2965,  3406,  6050,  9703,\n",
       "        6608,  2882,  1809,  1668,  3427,  2661, 16250,  3083,  6045,\n",
       "        5250, 14683,  4931,  6083,  2060,  3481,  7200,  5166,  4095,\n",
       "        4708,  4333,  2876,  3237, 11146,  2833,  2620,  3900,  2750,\n",
       "        3993,  3103,  4100,  4053,  3927,  2301,  1811, 20667,  3158,\n",
       "        3704,  4124,  9508,  3075,  4400,  3153,  4416,  6875,  4666,\n",
       "        2875,  1625,  2000,  3762, 20233,  7667,  2917,  2927,  2507,\n",
       "        2473,  3399,  2058,  3541,  4342,  3601,  3166, 15000,  8666,\n",
       "        4917,  5818,  4384,  2935, 63337,  9833,  5503,  1830,  4160,\n",
       "        2647,  2378,  4554,  2499,  3523,  6333,  2625,  9083,  8750,\n",
       "        2666,  2423,  3813,  3875,  5167,  4723,  4750,  3013,  6822,\n",
       "        6216,  5124,  6325, 19730, 15759,  5185,  3062,  2764,  4817,\n",
       "        4310,  3069,  5391,  5941,  7167,  4566,  2346,  3010,  5488,\n",
       "        9167,  9504,  1993,  3100,  3276,  3180,  3033,  3902,  1500,\n",
       "        2889,  2755,  1963,  7441,  4547,  2167,  2213,  8300, 81000,\n",
       "        3867,  6256,  6096,  2253,  2149,  2995,  1600,  1025,  3246,\n",
       "        5829,  2720,  7250, 14880,  4606,  5935,  2920,  2717,  8624,\n",
       "        6500, 12876,  2425, 10047,  1926, 10416,  7142,  3660,  7901,\n",
       "        4707, 37719,  3466,  3539,  3340,  2769,  2309,  1958,  3948,\n",
       "        2483,  7085,  3859,  4301,  3708,  4354,  8334,  2083,  7740,\n",
       "        3015,  5191,  2947, 16692,   210,  3450,  2653,  4691,  5532,\n",
       "       16525,  6700,  2873, 16667,  4350,  3095, 10833,  3547, 18333,\n",
       "        2435,  2699,  5333,  3691, 17263,  3597,  3326,  4625,  2895,\n",
       "        6283,   645,  3159,  4865,  4050,  3814, 20833,  3583, 13262,\n",
       "        3598,  6065,  3283,  2130,  5815,  2031,  3074,  4683,  3400,\n",
       "        2192,  5677,  7948,  4680, 17500,  3775,  5285,  2679,  6783,\n",
       "        4281,  3588, 11250, 18165,  2550,  6133,  3617,  6417,  4608,\n",
       "        2138,  3652,  2239,  3017,  2768,  3358,  2526,  2785,  6633,\n",
       "        2492,  2454,  3593,  5468,  2667, 10139,  3887,  4180,  3675,\n",
       "       19484,  5923,  5800,  8799,  4467,  3417,  5116, 16666,  6125,\n",
       "        6406,  3087,  3229,  1782,  3182,  6540,  1836,  1880,  2787,\n",
       "        2297,  2165,  2726,  9357, 16120,  3833,  6383,  2987,  9963,\n",
       "        5780,   416,  2894,  3676,  3987,  3232,  2900,  4106,  8072,\n",
       "        7583], dtype=int64)"
      ]
     },
     "execution_count": 17,
     "metadata": {},
     "output_type": "execute_result"
    }
   ],
   "source": [
    "data['ApplicantIncome'].unique()"
   ]
  },
  {
   "cell_type": "code",
   "execution_count": 18,
   "id": "e7155414",
   "metadata": {},
   "outputs": [
    {
     "data": {
      "text/plain": [
       "array([0.00000000e+00, 1.50800000e+03, 2.35800000e+03, 4.19600000e+03,\n",
       "       1.51600000e+03, 2.50400000e+03, 1.52600000e+03, 1.09680000e+04,\n",
       "       7.00000000e+02, 1.84000000e+03, 8.10600000e+03, 2.84000000e+03,\n",
       "       1.08600000e+03, 3.50000000e+03, 5.62500000e+03, 1.91100000e+03,\n",
       "       1.91700000e+03, 2.92500000e+03, 2.25300000e+03, 1.04000000e+03,\n",
       "       2.08300000e+03, 3.36900000e+03, 1.66700000e+03, 3.00000000e+03,\n",
       "       2.06700000e+03, 1.33000000e+03, 1.45900000e+03, 7.21000000e+03,\n",
       "       1.66800000e+03, 1.21300000e+03, 2.33600000e+03, 3.44000000e+03,\n",
       "       2.27500000e+03, 1.64400000e+03, 1.16700000e+03, 1.59100000e+03,\n",
       "       2.20000000e+03, 2.25000000e+03, 2.85900000e+03, 3.79600000e+03,\n",
       "       3.44900000e+03, 4.59500000e+03, 2.25400000e+03, 3.06600000e+03,\n",
       "       1.87500000e+03, 1.77400000e+03, 4.75000000e+03, 3.02200000e+03,\n",
       "       4.00000000e+03, 2.16600000e+03, 1.88100000e+03, 2.53100000e+03,\n",
       "       2.00000000e+03, 2.11800000e+03, 4.16700000e+03, 2.90000000e+03,\n",
       "       5.65400000e+03, 1.82000000e+03, 2.30200000e+03, 9.97000000e+02,\n",
       "       3.54100000e+03, 3.26300000e+03, 3.80600000e+03, 3.58300000e+03,\n",
       "       7.54000000e+02, 1.03000000e+03, 1.12600000e+03, 3.60000000e+03,\n",
       "       2.33300000e+03, 4.11400000e+03, 2.28300000e+03, 1.39800000e+03,\n",
       "       2.14200000e+03, 2.66700000e+03, 8.98000000e+03, 2.01400000e+03,\n",
       "       1.64000000e+03, 3.85000000e+03, 2.56900000e+03, 1.92900000e+03,\n",
       "       7.75000000e+03, 1.43000000e+03, 2.03400000e+03, 4.48600000e+03,\n",
       "       1.42500000e+03, 1.66600000e+03, 8.30000000e+02, 3.75000000e+03,\n",
       "       1.04100000e+03, 1.28000000e+03, 1.44700000e+03, 3.16600000e+03,\n",
       "       3.33300000e+03, 1.76900000e+03, 7.36000000e+02, 1.96400000e+03,\n",
       "       1.61900000e+03, 1.13000000e+04, 1.45100000e+03, 7.25000000e+03,\n",
       "       5.06300000e+03, 2.13800000e+03, 5.29600000e+03, 2.58300000e+03,\n",
       "       2.36500000e+03, 2.81600000e+03, 2.50000000e+03, 1.08300000e+03,\n",
       "       1.25000000e+03, 3.02100000e+03, 9.83000000e+02, 1.80000000e+03,\n",
       "       1.77500000e+03, 2.38300000e+03, 1.71700000e+03, 2.79100000e+03,\n",
       "       1.01000000e+03, 1.69500000e+03, 2.05400000e+03, 2.59800000e+03,\n",
       "       1.77900000e+03, 1.26000000e+03, 5.00000000e+03, 1.98300000e+03,\n",
       "       5.70100000e+03, 1.30000000e+03, 4.41700000e+03, 4.33300000e+03,\n",
       "       1.84300000e+03, 1.86800000e+03, 3.89000000e+03, 2.16700000e+03,\n",
       "       7.10100000e+03, 2.10000000e+03, 4.25000000e+03, 2.20900000e+03,\n",
       "       3.44700000e+03, 1.38700000e+03, 1.81100000e+03, 1.56000000e+03,\n",
       "       1.85700000e+03, 2.22300000e+03, 1.84200000e+03, 3.27400000e+03,\n",
       "       2.42600000e+03, 8.00000000e+02, 9.85799988e+02, 3.05300000e+03,\n",
       "       2.41600000e+03, 3.33400000e+03, 2.54100000e+03, 2.93400000e+03,\n",
       "       1.75000000e+03, 1.80300000e+03, 1.86300000e+03, 2.40500000e+03,\n",
       "       2.13400000e+03, 1.89000000e+02, 1.59000000e+03, 2.98500000e+03,\n",
       "       4.98300000e+03, 2.16000000e+03, 2.45100000e+03, 1.79300000e+03,\n",
       "       1.83300000e+03, 4.49000000e+03, 6.88000000e+02, 4.60000000e+03,\n",
       "       1.58700000e+03, 1.22900000e+03, 2.33000000e+03, 2.45800000e+03,\n",
       "       3.23000000e+03, 2.16800000e+03, 4.58300000e+03, 6.25000000e+03,\n",
       "       5.05000000e+02, 3.16700000e+03, 3.66700000e+03, 3.03300000e+03,\n",
       "       5.26600000e+03, 7.87300000e+03, 1.98700000e+03, 9.23000000e+02,\n",
       "       4.99600000e+03, 4.23200000e+03, 1.60000000e+03, 3.13600000e+03,\n",
       "       2.41700000e+03, 2.11500000e+03, 1.62500000e+03, 1.40000000e+03,\n",
       "       4.84000000e+02, 2.00000000e+04, 2.40000000e+03, 2.03300000e+03,\n",
       "       3.23700000e+03, 2.77300000e+03, 1.41700000e+03, 1.71900000e+03,\n",
       "       4.30000000e+03, 1.61200008e+01, 2.34000000e+03, 1.85100000e+03,\n",
       "       1.12500000e+03, 5.06400000e+03, 1.99300000e+03, 8.33300000e+03,\n",
       "       1.21000000e+03, 1.37600000e+03, 1.71000000e+03, 1.54200000e+03,\n",
       "       1.25500000e+03, 1.45600000e+03, 1.73300000e+03, 2.46600000e+03,\n",
       "       4.08300000e+03, 2.18800000e+03, 1.66400000e+03, 2.91700000e+03,\n",
       "       2.07900000e+03, 1.50000000e+03, 4.64800000e+03, 1.01400000e+03,\n",
       "       1.87200000e+03, 1.60300000e+03, 3.15000000e+03, 2.43600000e+03,\n",
       "       2.78500000e+03, 1.13100000e+03, 2.15700000e+03, 9.13000000e+02,\n",
       "       1.70000000e+03, 2.85700000e+03, 4.41600000e+03, 3.68300000e+03,\n",
       "       5.62400000e+03, 5.30200000e+03, 1.48300000e+03, 6.66700000e+03,\n",
       "       3.01300000e+03, 1.28700000e+03, 2.00400000e+03, 2.03500000e+03,\n",
       "       6.66600000e+03, 3.66600000e+03, 3.42800000e+03, 1.63200000e+03,\n",
       "       1.91500000e+03, 1.74200000e+03, 1.42400000e+03, 7.16600000e+03,\n",
       "       2.08700000e+03, 1.30200000e+03, 5.50000000e+03, 2.04200000e+03,\n",
       "       3.90600000e+03, 5.36000000e+02, 2.84500000e+03, 2.52400000e+03,\n",
       "       6.63000000e+02, 1.95000000e+03, 1.78300000e+03, 2.01600000e+03,\n",
       "       2.37500000e+03, 3.25000000e+03, 4.26600000e+03, 1.03200000e+03,\n",
       "       2.66900000e+03, 2.30600000e+03, 2.42000000e+02, 2.06400000e+03,\n",
       "       4.61000000e+02, 2.21000000e+03, 2.73900000e+03, 2.23200000e+03,\n",
       "       3.38370000e+04, 1.52200000e+03, 3.41600000e+03, 3.30000000e+03,\n",
       "       1.00000000e+03, 4.16670000e+04, 2.79200000e+03, 4.30100000e+03,\n",
       "       3.80000000e+03, 1.41100000e+03, 2.40000000e+02])"
      ]
     },
     "execution_count": 18,
     "metadata": {},
     "output_type": "execute_result"
    }
   ],
   "source": [
    "data['CoapplicantIncome'].unique()"
   ]
  },
  {
   "cell_type": "code",
   "execution_count": 19,
   "id": "124d7ad0",
   "metadata": {},
   "outputs": [
    {
     "data": {
      "text/plain": [
       "array([ nan, 128.,  66., 120., 141., 267.,  95., 158., 168., 349.,  70.,\n",
       "       109., 200., 114.,  17., 125., 100.,  76., 133., 115., 104., 315.,\n",
       "       116., 112., 151., 191., 122., 110.,  35., 201.,  74., 106., 320.,\n",
       "       144., 184.,  80.,  47.,  75., 134.,  96.,  88.,  44., 286.,  97.,\n",
       "       135., 180.,  99., 165., 258., 126., 312., 136., 172.,  81., 187.,\n",
       "       113., 176., 130., 111., 167., 265.,  50., 210., 175., 131., 188.,\n",
       "        25., 137., 160., 225., 216.,  94., 139., 152., 118., 185., 154.,\n",
       "        85., 259., 194.,  93., 370., 182., 650., 102., 290.,  84., 242.,\n",
       "       129.,  30., 244., 600., 255.,  98., 275., 121.,  63., 700.,  87.,\n",
       "       101., 495.,  67.,  73., 260., 108.,  58.,  48., 164., 170.,  83.,\n",
       "        90., 166., 124.,  55.,  59., 127., 214., 240.,  72.,  60., 138.,\n",
       "        42., 280., 140., 155., 123., 279., 192., 304., 330., 150., 207.,\n",
       "       436.,  78.,  54.,  89., 143., 105., 132., 480.,  56., 159., 300.,\n",
       "       376., 117.,  71., 490., 173.,  46., 228., 308., 236., 570., 380.,\n",
       "       296., 156., 103.,  45.,  65.,  53., 360.,  62., 218., 178., 239.,\n",
       "       405., 148., 190., 149., 153., 162., 230.,  86., 234., 246., 500.,\n",
       "       186., 119., 107., 209., 208., 243.,  40., 250., 311., 400., 161.,\n",
       "       196., 324., 157., 145., 181.,  26., 211.,   9., 205.,  36.,  61.,\n",
       "       146., 292., 142., 350., 496., 253.])"
      ]
     },
     "execution_count": 19,
     "metadata": {},
     "output_type": "execute_result"
    }
   ],
   "source": [
    "data['LoanAmount'].unique()"
   ]
  },
  {
   "cell_type": "code",
   "execution_count": 20,
   "id": "dcba288e",
   "metadata": {},
   "outputs": [
    {
     "data": {
      "text/plain": [
       "array([360., 120., 240.,  nan, 180.,  60., 300., 480.,  36.,  84.,  12.])"
      ]
     },
     "execution_count": 20,
     "metadata": {},
     "output_type": "execute_result"
    }
   ],
   "source": [
    "data['Loan_Amount_Term'].unique()"
   ]
  },
  {
   "cell_type": "code",
   "execution_count": 21,
   "id": "f944f97c",
   "metadata": {},
   "outputs": [
    {
     "data": {
      "text/plain": [
       "Loan_Amount_Term\n",
       "360.0    512\n",
       "180.0     44\n",
       "480.0     15\n",
       "300.0     13\n",
       "240.0      4\n",
       "84.0       4\n",
       "120.0      3\n",
       "60.0       2\n",
       "36.0       2\n",
       "12.0       1\n",
       "Name: count, dtype: int64"
      ]
     },
     "execution_count": 21,
     "metadata": {},
     "output_type": "execute_result"
    }
   ],
   "source": [
    "data['Loan_Amount_Term'].value_counts()"
   ]
  },
  {
   "cell_type": "code",
   "execution_count": 22,
   "id": "8d61bf69",
   "metadata": {},
   "outputs": [
    {
     "data": {
      "text/plain": [
       "array([ 1.,  0., nan])"
      ]
     },
     "execution_count": 22,
     "metadata": {},
     "output_type": "execute_result"
    }
   ],
   "source": [
    "data['Credit_History'].unique()"
   ]
  },
  {
   "cell_type": "code",
   "execution_count": 23,
   "id": "9f1db1b7",
   "metadata": {},
   "outputs": [],
   "source": [
    "data['Credit_History']=data['Credit_History'].replace({1:\"good\",0:\"bad\"})"
   ]
  },
  {
   "cell_type": "code",
   "execution_count": 24,
   "id": "88b8d8d6",
   "metadata": {},
   "outputs": [
    {
     "data": {
      "text/plain": [
       "array(['good', 'bad', nan], dtype=object)"
      ]
     },
     "execution_count": 24,
     "metadata": {},
     "output_type": "execute_result"
    }
   ],
   "source": [
    "data['Credit_History'].unique()\n"
   ]
  },
  {
   "cell_type": "code",
   "execution_count": 25,
   "id": "d3347a1f",
   "metadata": {},
   "outputs": [
    {
     "data": {
      "text/plain": [
       "Credit_History\n",
       "good    475\n",
       "bad      89\n",
       "Name: count, dtype: int64"
      ]
     },
     "execution_count": 25,
     "metadata": {},
     "output_type": "execute_result"
    }
   ],
   "source": [
    "data['Credit_History'].value_counts()"
   ]
  },
  {
   "cell_type": "code",
   "execution_count": 26,
   "id": "c23e4979",
   "metadata": {},
   "outputs": [
    {
     "data": {
      "text/plain": [
       "array(['Urban', 'Rural', 'Semiurban'], dtype=object)"
      ]
     },
     "execution_count": 26,
     "metadata": {},
     "output_type": "execute_result"
    }
   ],
   "source": [
    "data['Property_Area'].unique()"
   ]
  },
  {
   "cell_type": "code",
   "execution_count": 27,
   "id": "0c4243f9",
   "metadata": {
    "scrolled": true
   },
   "outputs": [
    {
     "data": {
      "text/plain": [
       "Property_Area\n",
       "Semiurban    233\n",
       "Urban        202\n",
       "Rural        179\n",
       "Name: count, dtype: int64"
      ]
     },
     "execution_count": 27,
     "metadata": {},
     "output_type": "execute_result"
    }
   ],
   "source": [
    "data['Property_Area'].value_counts()"
   ]
  },
  {
   "cell_type": "code",
   "execution_count": 28,
   "id": "dcbc33cc",
   "metadata": {},
   "outputs": [
    {
     "data": {
      "text/plain": [
       "array(['Y', 'N'], dtype=object)"
      ]
     },
     "execution_count": 28,
     "metadata": {},
     "output_type": "execute_result"
    }
   ],
   "source": [
    "data['Loan_Status'].unique()"
   ]
  },
  {
   "cell_type": "code",
   "execution_count": 29,
   "id": "ec733367",
   "metadata": {},
   "outputs": [
    {
     "data": {
      "text/plain": [
       "Loan_Status\n",
       "Y    422\n",
       "N    192\n",
       "Name: count, dtype: int64"
      ]
     },
     "execution_count": 29,
     "metadata": {},
     "output_type": "execute_result"
    }
   ],
   "source": [
    "data['Loan_Status'].value_counts()"
   ]
  },
  {
   "cell_type": "code",
   "execution_count": 30,
   "id": "62bd6d9a",
   "metadata": {},
   "outputs": [],
   "source": [
    "continous = ['ApplicantIncome', 'CoapplicantIncome', 'LoanAmount']\n",
    "discrete_categorical = ['Gender', 'Married', 'Education', 'Self_Employed',\n",
    "'Credit_History', 'Property_Area', 'Loan_Status']\n",
    "discrete_count = ['Dependents', 'Loan_Amount_Term']"
   ]
  },
  {
   "cell_type": "code",
   "execution_count": 31,
   "id": "0e7419a7",
   "metadata": {
    "scrolled": true
   },
   "outputs": [
    {
     "data": {
      "text/html": [
       "<div>\n",
       "<style scoped>\n",
       "    .dataframe tbody tr th:only-of-type {\n",
       "        vertical-align: middle;\n",
       "    }\n",
       "\n",
       "    .dataframe tbody tr th {\n",
       "        vertical-align: top;\n",
       "    }\n",
       "\n",
       "    .dataframe thead th {\n",
       "        text-align: right;\n",
       "    }\n",
       "</style>\n",
       "<table border=\"1\" class=\"dataframe\">\n",
       "  <thead>\n",
       "    <tr style=\"text-align: right;\">\n",
       "      <th></th>\n",
       "      <th>ApplicantIncome</th>\n",
       "      <th>CoapplicantIncome</th>\n",
       "      <th>LoanAmount</th>\n",
       "    </tr>\n",
       "  </thead>\n",
       "  <tbody>\n",
       "    <tr>\n",
       "      <th>count</th>\n",
       "      <td>614.000000</td>\n",
       "      <td>614.000000</td>\n",
       "      <td>592.000000</td>\n",
       "    </tr>\n",
       "    <tr>\n",
       "      <th>mean</th>\n",
       "      <td>5403.459283</td>\n",
       "      <td>1621.245798</td>\n",
       "      <td>146.412162</td>\n",
       "    </tr>\n",
       "    <tr>\n",
       "      <th>std</th>\n",
       "      <td>6109.041673</td>\n",
       "      <td>2926.248369</td>\n",
       "      <td>85.587325</td>\n",
       "    </tr>\n",
       "    <tr>\n",
       "      <th>min</th>\n",
       "      <td>150.000000</td>\n",
       "      <td>0.000000</td>\n",
       "      <td>9.000000</td>\n",
       "    </tr>\n",
       "    <tr>\n",
       "      <th>25%</th>\n",
       "      <td>2877.500000</td>\n",
       "      <td>0.000000</td>\n",
       "      <td>100.000000</td>\n",
       "    </tr>\n",
       "    <tr>\n",
       "      <th>50%</th>\n",
       "      <td>3812.500000</td>\n",
       "      <td>1188.500000</td>\n",
       "      <td>128.000000</td>\n",
       "    </tr>\n",
       "    <tr>\n",
       "      <th>75%</th>\n",
       "      <td>5795.000000</td>\n",
       "      <td>2297.250000</td>\n",
       "      <td>168.000000</td>\n",
       "    </tr>\n",
       "    <tr>\n",
       "      <th>max</th>\n",
       "      <td>81000.000000</td>\n",
       "      <td>41667.000000</td>\n",
       "      <td>700.000000</td>\n",
       "    </tr>\n",
       "  </tbody>\n",
       "</table>\n",
       "</div>"
      ],
      "text/plain": [
       "       ApplicantIncome  CoapplicantIncome  LoanAmount\n",
       "count       614.000000         614.000000  592.000000\n",
       "mean       5403.459283        1621.245798  146.412162\n",
       "std        6109.041673        2926.248369   85.587325\n",
       "min         150.000000           0.000000    9.000000\n",
       "25%        2877.500000           0.000000  100.000000\n",
       "50%        3812.500000        1188.500000  128.000000\n",
       "75%        5795.000000        2297.250000  168.000000\n",
       "max       81000.000000       41667.000000  700.000000"
      ]
     },
     "execution_count": 31,
     "metadata": {},
     "output_type": "execute_result"
    }
   ],
   "source": [
    "data[continous].describe()\n"
   ]
  },
  {
   "cell_type": "code",
   "execution_count": 32,
   "id": "e9f3486c",
   "metadata": {
    "scrolled": true
   },
   "outputs": [
    {
     "data": {
      "image/png": "[encoded data removed]",
      "text/plain": [
       "<Figure size 1800x800 with 3 Axes>"
      ]
     },
     "metadata": {},
     "output_type": "display_data"
    }
   ],
   "source": [
    "plt.rcParams['figure.figsize']=(18,8)\n",
    "\n",
    "plt.subplot(1,3,1)\n",
    "sns.histplot(data['ApplicantIncome'],kde=True)\n",
    "\n",
    "plt.subplot(1,3,2)\n",
    "sns.histplot(data['CoapplicantIncome'],kde=True)\n",
    "\n",
    "plt.subplot(1,3,3)\n",
    "sns.histplot(data['LoanAmount'],kde=True)\n",
    "\n",
    "plt.suptitle('Univarirate Analysis on Numerical Columns')\n",
    "plt.show()\n"
   ]
  },
  {
   "cell_type": "code",
   "execution_count": 33,
   "id": "bf45062e",
   "metadata": {},
   "outputs": [
    {
     "data": {
      "text/plain": [
       "ApplicantIncome      6.539513\n",
       "CoapplicantIncome    7.491531\n",
       "LoanAmount           2.677552\n",
       "dtype: float64"
      ]
     },
     "execution_count": 33,
     "metadata": {},
     "output_type": "execute_result"
    }
   ],
   "source": [
    "data[continous].skew()"
   ]
  },
  {
   "cell_type": "code",
   "execution_count": 34,
   "id": "bde1a568",
   "metadata": {},
   "outputs": [
    {
     "data": {
      "image/png": "[encoded data removed]",
      "text/plain": [
       "<Figure size 750x750 with 12 Axes>"
      ]
     },
     "metadata": {},
     "output_type": "display_data"
    }
   ],
   "source": [
    "sns.pairplot(data[continous])\n",
    "plt.show()"
   ]
  },
  {
   "cell_type": "code",
   "execution_count": 35,
   "id": "3ea75e21",
   "metadata": {},
   "outputs": [
    {
     "data": {
      "text/plain": [
       "<Axes: >"
      ]
     },
     "execution_count": 35,
     "metadata": {},
     "output_type": "execute_result"
    },
    {
     "data": {
      "image/png": "[encoded data removed]",
      "text/plain": [
       "<Figure size 1800x800 with 2 Axes>"
      ]
     },
     "metadata": {},
     "output_type": "display_data"
    }
   ],
   "source": [
    "sns.heatmap(data[continous].corr(),annot=True)"
   ]
  },
  {
   "cell_type": "code",
   "execution_count": 36,
   "id": "5993a065",
   "metadata": {},
   "outputs": [
    {
     "data": {
      "image/png": "[encoded data removed]",
      "text/plain": [
       "<Figure size 1500x500 with 3 Axes>"
      ]
     },
     "metadata": {},
     "output_type": "display_data"
    }
   ],
   "source": [
    "plt.figure(figsize=(15, 5))\n",
    "\n",
    "# Box plot for 'ApplicantIncome'\n",
    "if 'ApplicantIncome' in data.columns:\n",
    "    plt.subplot(1, 3, 1)\n",
    "    sns.boxplot(y=data['ApplicantIncome'])\n",
    "    plt.title('Applicant Income')\n",
    "\n",
    "# Box plot for 'CoapplicantIncome'\n",
    "if 'CoapplicantIncome' in data.columns:\n",
    "    plt.subplot(1, 3, 2)\n",
    "    sns.boxplot(y=data['CoapplicantIncome'])\n",
    "    plt.title('Coapplicant Income')\n",
    "\n",
    "# Box plot for 'LoanAmount'\n",
    "if 'LoanAmount' in data.columns:\n",
    "    plt.subplot(1, 3, 3)\n",
    "    sns.boxplot(y=data['LoanAmount'])\n",
    "    plt.title('Loan Amount')\n",
    "\n",
    "# Set a title for the entire figure\n",
    "plt.suptitle('Outliers in the Data')\n",
    "plt.show()"
   ]
  },
  {
   "cell_type": "code",
   "execution_count": 37,
   "id": "f49c2aeb",
   "metadata": {},
   "outputs": [
    {
     "data": {
      "text/html": [
       "<div>\n",
       "<style scoped>\n",
       "    .dataframe tbody tr th:only-of-type {\n",
       "        vertical-align: middle;\n",
       "    }\n",
       "\n",
       "    .dataframe tbody tr th {\n",
       "        vertical-align: top;\n",
       "    }\n",
       "\n",
       "    .dataframe thead th {\n",
       "        text-align: right;\n",
       "    }\n",
       "</style>\n",
       "<table border=\"1\" class=\"dataframe\">\n",
       "  <thead>\n",
       "    <tr style=\"text-align: right;\">\n",
       "      <th></th>\n",
       "      <th>Gender</th>\n",
       "      <th>Married</th>\n",
       "      <th>Education</th>\n",
       "      <th>Self_Employed</th>\n",
       "      <th>Credit_History</th>\n",
       "      <th>Property_Area</th>\n",
       "      <th>Loan_Status</th>\n",
       "    </tr>\n",
       "  </thead>\n",
       "  <tbody>\n",
       "    <tr>\n",
       "      <th>count</th>\n",
       "      <td>601</td>\n",
       "      <td>611</td>\n",
       "      <td>614</td>\n",
       "      <td>582</td>\n",
       "      <td>564</td>\n",
       "      <td>614</td>\n",
       "      <td>614</td>\n",
       "    </tr>\n",
       "    <tr>\n",
       "      <th>unique</th>\n",
       "      <td>2</td>\n",
       "      <td>2</td>\n",
       "      <td>2</td>\n",
       "      <td>2</td>\n",
       "      <td>2</td>\n",
       "      <td>3</td>\n",
       "      <td>2</td>\n",
       "    </tr>\n",
       "    <tr>\n",
       "      <th>top</th>\n",
       "      <td>Male</td>\n",
       "      <td>Yes</td>\n",
       "      <td>Graduate</td>\n",
       "      <td>No</td>\n",
       "      <td>good</td>\n",
       "      <td>Semiurban</td>\n",
       "      <td>Y</td>\n",
       "    </tr>\n",
       "    <tr>\n",
       "      <th>freq</th>\n",
       "      <td>489</td>\n",
       "      <td>398</td>\n",
       "      <td>480</td>\n",
       "      <td>500</td>\n",
       "      <td>475</td>\n",
       "      <td>233</td>\n",
       "      <td>422</td>\n",
       "    </tr>\n",
       "  </tbody>\n",
       "</table>\n",
       "</div>"
      ],
      "text/plain": [
       "       Gender Married Education Self_Employed Credit_History Property_Area  \\\n",
       "count     601     611       614           582            564           614   \n",
       "unique      2       2         2             2              2             3   \n",
       "top      Male     Yes  Graduate            No           good     Semiurban   \n",
       "freq      489     398       480           500            475           233   \n",
       "\n",
       "       Loan_Status  \n",
       "count          614  \n",
       "unique           2  \n",
       "top              Y  \n",
       "freq           422  "
      ]
     },
     "execution_count": 37,
     "metadata": {},
     "output_type": "execute_result"
    }
   ],
   "source": [
    "data[discrete_categorical].describe()"
   ]
  },
  {
   "cell_type": "code",
   "execution_count": 38,
   "id": "b02d99bc",
   "metadata": {
    "scrolled": true
   },
   "outputs": [
    {
     "data": {
      "image/png": "[encoded data removed]",
      "text/plain": [
       "<Figure size 1800x800 with 6 Axes>"
      ]
     },
     "metadata": {},
     "output_type": "display_data"
    }
   ],
   "source": [
    "import seaborn as sns\n",
    "import matplotlib.pyplot as plt\n",
    "\n",
    "# Set the figure size\n",
    "plt.rcParams['figure.figsize'] = (18, 8)\n",
    "\n",
    "# Plot each categorical variable in a subplot\n",
    "plt.subplot(2, 3, 1)\n",
    "sns.countplot(x='Gender', data=data)\n",
    "plt.subplot(2, 3, 2)\n",
    "sns.countplot(x='Married', data=data)\n",
    "plt.subplot(2, 3, 3)\n",
    "sns.countplot(x='Self_Employed', data=data)\n",
    "plt.subplot(2, 3, 4)\n",
    "sns.countplot(x='Property_Area', data=data)\n",
    "plt.subplot(2, 3, 5)\n",
    "sns.countplot(x='Education', data=data)\n",
    "plt.subplot(2, 3, 6)\n",
    "sns.countplot(x='Loan_Status', data=data)\n",
    "\n",
    "# Set a title for the entire figure\n",
    "plt.suptitle('Univariate Analysis on Categorical Columns')\n",
    "plt.show()\n"
   ]
  },
  {
   "cell_type": "code",
   "execution_count": 39,
   "id": "f9035bd0",
   "metadata": {},
   "outputs": [],
   "source": [
    "#Data Preparation"
   ]
  },
  {
   "cell_type": "code",
   "execution_count": 40,
   "id": "31d550cc",
   "metadata": {},
   "outputs": [],
   "source": [
    "data[\"Income\"] = data.get('ApplicantIncome', 0) + data.get('CoapplicantIncome', 0)\n",
    "data.drop(columns=['ApplicantIncome', 'CoapplicantIncome'], inplace=True, errors='ignore')"
   ]
  },
  {
   "cell_type": "code",
   "execution_count": 41,
   "id": "64f786ba",
   "metadata": {},
   "outputs": [],
   "source": [
    "data['Dependents'] = data['Dependents'].replace({'3+':3})"
   ]
  },
  {
   "cell_type": "code",
   "execution_count": 42,
   "id": "656808f7",
   "metadata": {},
   "outputs": [
    {
     "data": {
      "text/plain": [
       "Gender              13\n",
       "Married              3\n",
       "Dependents          15\n",
       "Education            0\n",
       "Self_Employed       32\n",
       "LoanAmount          22\n",
       "Loan_Amount_Term    14\n",
       "Credit_History      50\n",
       "Property_Area        0\n",
       "Loan_Status          0\n",
       "Income               0\n",
       "dtype: int64"
      ]
     },
     "execution_count": 42,
     "metadata": {},
     "output_type": "execute_result"
    }
   ],
   "source": [
    "# checking no. of Missing values\n",
    "data.isnull().sum()"
   ]
  },
  {
   "cell_type": "code",
   "execution_count": 43,
   "id": "80851787",
   "metadata": {},
   "outputs": [
    {
     "data": {
      "text/plain": [
       "Gender              2.117264\n",
       "Married             0.488599\n",
       "Dependents          2.442997\n",
       "Education           0.000000\n",
       "Self_Employed       5.211726\n",
       "LoanAmount          3.583062\n",
       "Loan_Amount_Term    2.280130\n",
       "Credit_History      8.143322\n",
       "Property_Area       0.000000\n",
       "Loan_Status         0.000000\n",
       "Income              0.000000\n",
       "dtype: float64"
      ]
     },
     "execution_count": 43,
     "metadata": {},
     "output_type": "execute_result"
    }
   ],
   "source": [
    "#checking percentage of Missing values\n",
    "data.isnull().sum()/len(data)*100"
   ]
  },
  {
   "cell_type": "code",
   "execution_count": 44,
   "id": "0238b6e3",
   "metadata": {},
   "outputs": [],
   "source": [
    "data = data.dropna(subset=[\"Income\", 'LoanAmount', 'Loan_Amount_Term', 'Credit_History'])"
   ]
  },
  {
   "cell_type": "code",
   "execution_count": 45,
   "id": "3ff87ca9",
   "metadata": {},
   "outputs": [],
   "source": [
    "data['Dependents'] = data['Dependents'].fillna(0)"
   ]
  },
  {
   "cell_type": "code",
   "execution_count": 46,
   "id": "75c8d6c1",
   "metadata": {},
   "outputs": [],
   "source": [
    "# using mode values to impute categorical columns\n",
    "data['Gender'] = data['Gender'].fillna(data['Gender'].mode()[0])\n",
    "data['Married'] = data['Married'].fillna(data['Married'].mode()[0])\n",
    "data['Self_Employed'] = data['Self_Employed'].fillna(data['Self_Employed'].mode()[0])"
   ]
  },
  {
   "cell_type": "code",
   "execution_count": 47,
   "id": "413e0dc2",
   "metadata": {},
   "outputs": [
    {
     "data": {
      "text/plain": [
       "Gender              0\n",
       "Married             0\n",
       "Dependents          0\n",
       "Education           0\n",
       "Self_Employed       0\n",
       "LoanAmount          0\n",
       "Loan_Amount_Term    0\n",
       "Credit_History      0\n",
       "Property_Area       0\n",
       "Loan_Status         0\n",
       "Income              0\n",
       "dtype: int64"
      ]
     },
     "execution_count": 47,
     "metadata": {},
     "output_type": "execute_result"
    }
   ],
   "source": [
    "data.isnull().sum()"
   ]
  },
  {
   "cell_type": "code",
   "execution_count": 48,
   "id": "74db5f84",
   "metadata": {},
   "outputs": [
    {
     "data": {
      "image/png": "[encoded data removed]",
      "text/plain": [
       "<Figure size 1200x600 with 2 Axes>"
      ]
     },
     "metadata": {},
     "output_type": "display_data"
    }
   ],
   "source": [
    "###\n",
    "\n",
    "# Set up the figure size and subplots\n",
    "plt.figure(figsize=(12, 6))\n",
    "\n",
    "# Plot the box plot for 'Income'\n",
    "plt.subplot(1, 2, 1)\n",
    "sns.boxplot(y=data['Income'])\n",
    "plt.title('Income')\n",
    "\n",
    "# Plot the box plot for 'LoanAmount'\n",
    "plt.subplot(1, 2, 2)\n",
    "sns.boxplot(y=data['LoanAmount'])\n",
    "plt.title('LoanAmount')\n",
    "\n",
    "# Set a title for the entire figure\n",
    "plt.suptitle('Outliers in the Data')\n",
    "plt.show()"
   ]
  },
  {
   "cell_type": "code",
   "execution_count": 49,
   "id": "c9fd8ad5",
   "metadata": {},
   "outputs": [],
   "source": [
    "data['Gender'] = data['Gender'].map({'Male': 1, 'Female' : 0}).astype('int')\n",
    "data['Married'] = data['Married'].map({'Yes': 1, 'No' : 0}).astype('int')\n",
    "data['Education'] = data['Education'].map({'Graduate': 1, 'Not Graduate':0}).astype('int')\n",
    "data['Self_Employed'] = data['Self_Employed'].map({'Yes':1, 'No':0}).astype('int')\n",
    "data['Property_Area'] = data['Property_Area'].map({'Rural' : 0, 'Semiurban': 1, 'Urban':2}).astype('int')\n",
    "data['Credit_History'] = data['Credit_History'].map({'good': 1, 'bad' : 0}).astype('int')\n",
    "data['Loan_Status'] = data['Loan_Status'].map({'Y':1, 'N' : 0}).astype('int')"
   ]
  },
  {
   "cell_type": "code",
   "execution_count": 50,
   "id": "5ca67a93",
   "metadata": {},
   "outputs": [],
   "source": [
    "data['Dependents']=data['Dependents'].astype('int')\n",
    "data['Loan_Amount_Term']=data['Loan_Amount_Term'].astype('int')"
   ]
  },
  {
   "cell_type": "code",
   "execution_count": 51,
   "id": "e59ca383",
   "metadata": {},
   "outputs": [
    {
     "data": {
      "text/plain": [
       "Income        5.777628\n",
       "LoanAmount    2.607945\n",
       "dtype: float64"
      ]
     },
     "execution_count": 51,
     "metadata": {},
     "output_type": "execute_result"
    }
   ],
   "source": [
    "data[['Income', 'LoanAmount']].skew()"
   ]
  },
  {
   "cell_type": "code",
   "execution_count": 52,
   "id": "609a16ff",
   "metadata": {},
   "outputs": [],
   "source": [
    "# Lets apply boxcox transformation to remove skewness\n",
    "from scipy.stats import boxcox\n",
    "data['Income'], a = boxcox (data['Income'])\n",
    "data['LoanAmount'], c = boxcox(data['LoanAmount'])"
   ]
  },
  {
   "cell_type": "code",
   "execution_count": 53,
   "id": "858b62e3",
   "metadata": {},
   "outputs": [
    {
     "data": {
      "text/plain": [
       "Income       -0.027769\n",
       "LoanAmount    0.038289\n",
       "dtype: float64"
      ]
     },
     "execution_count": 53,
     "metadata": {},
     "output_type": "execute_result"
    }
   ],
   "source": [
    "data[['Income', 'LoanAmount']].skew()"
   ]
  },
  {
   "cell_type": "code",
   "execution_count": 54,
   "id": "8e95cc6d",
   "metadata": {},
   "outputs": [],
   "source": [
    "data['Loan_Amount_Term'] = data['Loan_Amount_Term']/12"
   ]
  },
  {
   "cell_type": "code",
   "execution_count": 55,
   "id": "f35d38f0",
   "metadata": {},
   "outputs": [
    {
     "data": {
      "text/plain": [
       "array([30., 10., 15.,  5., 25., 40., 20.,  3.,  7.])"
      ]
     },
     "execution_count": 55,
     "metadata": {},
     "output_type": "execute_result"
    }
   ],
   "source": [
    "data['Loan_Amount_Term'].unique()"
   ]
  },
  {
   "cell_type": "code",
   "execution_count": 56,
   "id": "e5f462ae",
   "metadata": {
    "scrolled": true
   },
   "outputs": [
    {
     "data": {
      "text/html": [
       "<div>\n",
       "<style scoped>\n",
       "    .dataframe tbody tr th:only-of-type {\n",
       "        vertical-align: middle;\n",
       "    }\n",
       "\n",
       "    .dataframe tbody tr th {\n",
       "        vertical-align: top;\n",
       "    }\n",
       "\n",
       "    .dataframe thead th {\n",
       "        text-align: right;\n",
       "    }\n",
       "</style>\n",
       "<table border=\"1\" class=\"dataframe\">\n",
       "  <thead>\n",
       "    <tr style=\"text-align: right;\">\n",
       "      <th></th>\n",
       "      <th>Gender</th>\n",
       "      <th>Married</th>\n",
       "      <th>Dependents</th>\n",
       "      <th>Education</th>\n",
       "      <th>Self_Employed</th>\n",
       "      <th>LoanAmount</th>\n",
       "      <th>Loan_Amount_Term</th>\n",
       "      <th>Credit_History</th>\n",
       "      <th>Property_Area</th>\n",
       "      <th>Loan_Status</th>\n",
       "      <th>Income</th>\n",
       "    </tr>\n",
       "  </thead>\n",
       "  <tbody>\n",
       "    <tr>\n",
       "      <th>1</th>\n",
       "      <td>1</td>\n",
       "      <td>1</td>\n",
       "      <td>1</td>\n",
       "      <td>1</td>\n",
       "      <td>0</td>\n",
       "      <td>6.243267</td>\n",
       "      <td>30.0</td>\n",
       "      <td>1</td>\n",
       "      <td>0</td>\n",
       "      <td>0</td>\n",
       "      <td>1.864967</td>\n",
       "    </tr>\n",
       "    <tr>\n",
       "      <th>2</th>\n",
       "      <td>1</td>\n",
       "      <td>1</td>\n",
       "      <td>0</td>\n",
       "      <td>1</td>\n",
       "      <td>1</td>\n",
       "      <td>5.202610</td>\n",
       "      <td>30.0</td>\n",
       "      <td>1</td>\n",
       "      <td>2</td>\n",
       "      <td>1</td>\n",
       "      <td>1.856556</td>\n",
       "    </tr>\n",
       "    <tr>\n",
       "      <th>3</th>\n",
       "      <td>1</td>\n",
       "      <td>1</td>\n",
       "      <td>0</td>\n",
       "      <td>0</td>\n",
       "      <td>0</td>\n",
       "      <td>6.138816</td>\n",
       "      <td>30.0</td>\n",
       "      <td>1</td>\n",
       "      <td>2</td>\n",
       "      <td>1</td>\n",
       "      <td>1.862802</td>\n",
       "    </tr>\n",
       "    <tr>\n",
       "      <th>4</th>\n",
       "      <td>1</td>\n",
       "      <td>0</td>\n",
       "      <td>0</td>\n",
       "      <td>1</td>\n",
       "      <td>0</td>\n",
       "      <td>6.401083</td>\n",
       "      <td>30.0</td>\n",
       "      <td>1</td>\n",
       "      <td>2</td>\n",
       "      <td>1</td>\n",
       "      <td>1.864819</td>\n",
       "    </tr>\n",
       "    <tr>\n",
       "      <th>5</th>\n",
       "      <td>1</td>\n",
       "      <td>1</td>\n",
       "      <td>2</td>\n",
       "      <td>1</td>\n",
       "      <td>1</td>\n",
       "      <td>7.481931</td>\n",
       "      <td>30.0</td>\n",
       "      <td>1</td>\n",
       "      <td>2</td>\n",
       "      <td>1</td>\n",
       "      <td>1.868932</td>\n",
       "    </tr>\n",
       "    <tr>\n",
       "      <th>...</th>\n",
       "      <td>...</td>\n",
       "      <td>...</td>\n",
       "      <td>...</td>\n",
       "      <td>...</td>\n",
       "      <td>...</td>\n",
       "      <td>...</td>\n",
       "      <td>...</td>\n",
       "      <td>...</td>\n",
       "      <td>...</td>\n",
       "      <td>...</td>\n",
       "      <td>...</td>\n",
       "    </tr>\n",
       "    <tr>\n",
       "      <th>609</th>\n",
       "      <td>0</td>\n",
       "      <td>0</td>\n",
       "      <td>0</td>\n",
       "      <td>1</td>\n",
       "      <td>0</td>\n",
       "      <td>5.313992</td>\n",
       "      <td>30.0</td>\n",
       "      <td>1</td>\n",
       "      <td>0</td>\n",
       "      <td>1</td>\n",
       "      <td>1.856068</td>\n",
       "    </tr>\n",
       "    <tr>\n",
       "      <th>610</th>\n",
       "      <td>1</td>\n",
       "      <td>1</td>\n",
       "      <td>3</td>\n",
       "      <td>1</td>\n",
       "      <td>0</td>\n",
       "      <td>4.460305</td>\n",
       "      <td>15.0</td>\n",
       "      <td>1</td>\n",
       "      <td>0</td>\n",
       "      <td>1</td>\n",
       "      <td>1.860675</td>\n",
       "    </tr>\n",
       "    <tr>\n",
       "      <th>611</th>\n",
       "      <td>1</td>\n",
       "      <td>1</td>\n",
       "      <td>1</td>\n",
       "      <td>1</td>\n",
       "      <td>0</td>\n",
       "      <td>7.388071</td>\n",
       "      <td>30.0</td>\n",
       "      <td>1</td>\n",
       "      <td>2</td>\n",
       "      <td>1</td>\n",
       "      <td>1.867771</td>\n",
       "    </tr>\n",
       "    <tr>\n",
       "      <th>612</th>\n",
       "      <td>1</td>\n",
       "      <td>1</td>\n",
       "      <td>2</td>\n",
       "      <td>1</td>\n",
       "      <td>0</td>\n",
       "      <td>6.870558</td>\n",
       "      <td>30.0</td>\n",
       "      <td>1</td>\n",
       "      <td>2</td>\n",
       "      <td>1</td>\n",
       "      <td>1.866991</td>\n",
       "    </tr>\n",
       "    <tr>\n",
       "      <th>613</th>\n",
       "      <td>0</td>\n",
       "      <td>0</td>\n",
       "      <td>0</td>\n",
       "      <td>1</td>\n",
       "      <td>1</td>\n",
       "      <td>6.305603</td>\n",
       "      <td>30.0</td>\n",
       "      <td>0</td>\n",
       "      <td>1</td>\n",
       "      <td>0</td>\n",
       "      <td>1.861963</td>\n",
       "    </tr>\n",
       "  </tbody>\n",
       "</table>\n",
       "<p>529 rows × 11 columns</p>\n",
       "</div>"
      ],
      "text/plain": [
       "     Gender  Married  Dependents  Education  Self_Employed  LoanAmount  \\\n",
       "1         1        1           1          1              0    6.243267   \n",
       "2         1        1           0          1              1    5.202610   \n",
       "3         1        1           0          0              0    6.138816   \n",
       "4         1        0           0          1              0    6.401083   \n",
       "5         1        1           2          1              1    7.481931   \n",
       "..      ...      ...         ...        ...            ...         ...   \n",
       "609       0        0           0          1              0    5.313992   \n",
       "610       1        1           3          1              0    4.460305   \n",
       "611       1        1           1          1              0    7.388071   \n",
       "612       1        1           2          1              0    6.870558   \n",
       "613       0        0           0          1              1    6.305603   \n",
       "\n",
       "     Loan_Amount_Term  Credit_History  Property_Area  Loan_Status    Income  \n",
       "1                30.0               1              0            0  1.864967  \n",
       "2                30.0               1              2            1  1.856556  \n",
       "3                30.0               1              2            1  1.862802  \n",
       "4                30.0               1              2            1  1.864819  \n",
       "5                30.0               1              2            1  1.868932  \n",
       "..                ...             ...            ...          ...       ...  \n",
       "609              30.0               1              0            1  1.856068  \n",
       "610              15.0               1              0            1  1.860675  \n",
       "611              30.0               1              2            1  1.867771  \n",
       "612              30.0               1              2            1  1.866991  \n",
       "613              30.0               0              1            0  1.861963  \n",
       "\n",
       "[529 rows x 11 columns]"
      ]
     },
     "execution_count": 56,
     "metadata": {},
     "output_type": "execute_result"
    }
   ],
   "source": [
    "data"
   ]
  },
  {
   "cell_type": "code",
   "execution_count": 57,
   "id": "e9df87a1",
   "metadata": {},
   "outputs": [
    {
     "name": "stdout",
     "output_type": "stream",
     "text": [
      "<class 'pandas.core.frame.DataFrame'>\n",
      "Index: 529 entries, 1 to 613\n",
      "Data columns (total 11 columns):\n",
      " #   Column            Non-Null Count  Dtype  \n",
      "---  ------            --------------  -----  \n",
      " 0   Gender            529 non-null    int32  \n",
      " 1   Married           529 non-null    int32  \n",
      " 2   Dependents        529 non-null    int32  \n",
      " 3   Education         529 non-null    int32  \n",
      " 4   Self_Employed     529 non-null    int32  \n",
      " 5   LoanAmount        529 non-null    float64\n",
      " 6   Loan_Amount_Term  529 non-null    float64\n",
      " 7   Credit_History    529 non-null    int32  \n",
      " 8   Property_Area     529 non-null    int32  \n",
      " 9   Loan_Status       529 non-null    int32  \n",
      " 10  Income            529 non-null    float64\n",
      "dtypes: float64(3), int32(8)\n",
      "memory usage: 33.1 KB\n"
     ]
    }
   ],
   "source": [
    "data.info()"
   ]
  },
  {
   "cell_type": "code",
   "execution_count": 58,
   "id": "0b9e14dc",
   "metadata": {},
   "outputs": [],
   "source": [
    "# Define X and y\n",
    "X = data.drop('Loan_Status', axis=1)\n",
    "y = data['Loan_Status']\n"
   ]
  },
  {
   "cell_type": "code",
   "execution_count": 59,
   "id": "1fe0b3e3",
   "metadata": {},
   "outputs": [
    {
     "name": "stdout",
     "output_type": "stream",
     "text": [
      "Best random_state number: 70\n"
     ]
    }
   ],
   "source": [
    "\n",
    "# Initialize lists for accuracy scores\n",
    "Train = []\n",
    "Test = []\n",
    "CV = []\n",
    "\n",
    "# Loop over different random states\n",
    "for i in range(0, 101):\n",
    "    from sklearn.model_selection import train_test_split\n",
    "    X_train, X_test, y_train, y_test = train_test_split(X, y, test_size=0.2, random_state=i)\n",
    "    \n",
    "    from sklearn.linear_model import LogisticRegression\n",
    "    log_default = LogisticRegression()\n",
    "    log_default.fit(X_train, y_train)\n",
    "    \n",
    "    # Make predictions\n",
    "    ypred_train = log_default.predict(X_train)\n",
    "    ypred_test = log_default.predict(X_test)\n",
    "    \n",
    "    # Calculate accuracy scores\n",
    "    from sklearn.metrics import accuracy_score\n",
    "    Train.append(accuracy_score(y_train, ypred_train))\n",
    "    Test.append(accuracy_score(y_test, ypred_test))\n",
    "    \n",
    "    # Cross-validation score\n",
    "    from sklearn.model_selection import cross_val_score\n",
    "    CV.append(cross_val_score(log_default, X_train, y_train, cv=5, scoring=\"accuracy\").mean())\n",
    "\n",
    "# Create DataFrame for the scores\n",
    "em = pd.DataFrame({\"Train\": Train, \"Test\": Test, \"CV\": CV})\n",
    "\n",
    "# Filter to find the best random state\n",
    "gm = em[(abs(em['Train'] - em['Test']) <= 0.05) & (abs(em['Test'] - em['CV']) <= 0.05)]\n",
    "rs = gm[gm[\"CV\"] == gm[\"CV\"].max()].index.to_list()[0]\n",
    "print(\"Best random_state number:\", rs)\n"
   ]
  },
  {
   "cell_type": "code",
   "execution_count": 60,
   "id": "ac4e136d",
   "metadata": {},
   "outputs": [],
   "source": [
    "from sklearn.model_selection import train_test_split\n",
    "X_train, X_test, y_train, y_test = train_test_split(X, y, test_size = 0.2, random_state = rs)"
   ]
  },
  {
   "cell_type": "code",
   "execution_count": 61,
   "id": "c413f22e",
   "metadata": {},
   "outputs": [],
   "source": [
    "#Ml"
   ]
  },
  {
   "cell_type": "markdown",
   "id": "0717abfb-d934-4953-9ef5-f9d1f759dc87",
   "metadata": {},
   "source": [
    "Logistic Regression"
   ]
  },
  {
   "cell_type": "code",
   "execution_count": 62,
   "id": "e32d7d5b",
   "metadata": {},
   "outputs": [
    {
     "name": "stdout",
     "output_type": "stream",
     "text": [
      "Train Accuracy :  0.8226950354609929\n",
      "Cross validation score: [0.82352941 0.8        0.81176471 0.83333333 0.8452381 ]\n",
      "Test Accuracy :  0.7830188679245284\n"
     ]
    }
   ],
   "source": [
    "#Logistic Regression\n",
    "from sklearn.linear_model import LogisticRegression\n",
    "log_model = LogisticRegression()\n",
    "log_model.fit(X_train,y_train)\n",
    "\n",
    "ypred_train = log_model.predict(X_train)\n",
    "ypred_test = log_model.predict(X_test)\n",
    "\n",
    "print(\"Train Accuracy : \", accuracy_score(y_train, ypred_train))\n",
    "print(\"Cross validation score:\", cross_val_score(log_model, X_train,y_train, cv=5, scoring=\"accuracy\"))\n",
    "print(\"Test Accuracy : \", accuracy_score(y_test,ypred_test))"
   ]
  },
  {
   "cell_type": "markdown",
   "id": "4d43b5d6-3d31-4d81-a857-b5e7c55181d1",
   "metadata": {},
   "source": [
    "KNN"
   ]
  },
  {
   "cell_type": "code",
   "execution_count": 63,
   "id": "bb6ca7d4",
   "metadata": {},
   "outputs": [
    {
     "name": "stdout",
     "output_type": "stream",
     "text": [
      "Train Accuracy :  0.7541371158392435\n",
      "Cross validation score: [0.72941176 0.74117647 0.74117647 0.73809524 0.73809524]\n",
      "Test Accuracy :  0.7075471698113207\n"
     ]
    }
   ],
   "source": [
    "#Knn\n",
    "from sklearn.neighbors import KNeighborsClassifier\n",
    "\n",
    "estimator = KNeighborsClassifier()\n",
    "param_grid = {'n_neighbors': list(range(1,50))}\n",
    "\n",
    "from sklearn.model_selection import GridSearchCV\n",
    "knn_grid = GridSearchCV(estimator, param_grid, scoring='accuracy',cv=5)\n",
    "knn_grid.fit(X_train,y_train)\n",
    "\n",
    "knn_model = knn_grid.best_estimator_\n",
    "\n",
    "ypred_train = knn_model.predict(X_train)\n",
    "ypred_test = knn_model.predict(X_test)\n",
    "\n",
    "print(\"Train Accuracy : \", accuracy_score(y_train,ypred_train))\n",
    "print(\"Cross validation score:\", cross_val_score(knn_model,X_train,y_train,cv=5,scoring=\"accuracy\"))\n",
    "print(\"Test Accuracy : \", accuracy_score(y_test,ypred_test))"
   ]
  },
  {
   "cell_type": "code",
   "execution_count": 64,
   "id": "7f025ee5",
   "metadata": {},
   "outputs": [
    {
     "data": {
      "text/html": [
       "<style>#sk-container-id-1 {\n",
       "  /* Definition of color scheme common for light and dark mode */\n",
       "  --sklearn-color-text: black;\n",
       "  --sklearn-color-line: gray;\n",
       "  /* Definition of color scheme for unfitted estimators */\n",
       "  --sklearn-color-unfitted-level-0: #fff5e6;\n",
       "  --sklearn-color-unfitted-level-1: #f6e4d2;\n",
       "  --sklearn-color-unfitted-level-2: #ffe0b3;\n",
       "  --sklearn-color-unfitted-level-3: chocolate;\n",
       "  /* Definition of color scheme for fitted estimators */\n",
       "  --sklearn-color-fitted-level-0: #f0f8ff;\n",
       "  --sklearn-color-fitted-level-1: #d4ebff;\n",
       "  --sklearn-color-fitted-level-2: #b3dbfd;\n",
       "  --sklearn-color-fitted-level-3: cornflowerblue;\n",
       "\n",
       "  /* Specific color for light theme */\n",
       "  --sklearn-color-text-on-default-background: var(--sg-text-color, var(--theme-code-foreground, var(--jp-content-font-color1, black)));\n",
       "  --sklearn-color-background: var(--sg-background-color, var(--theme-background, var(--jp-layout-color0, white)));\n",
       "  --sklearn-color-border-box: var(--sg-text-color, var(--theme-code-foreground, var(--jp-content-font-color1, black)));\n",
       "  --sklearn-color-icon: #696969;\n",
       "\n",
       "  @media (prefers-color-scheme: dark) {\n",
       "    /* Redefinition of color scheme for dark theme */\n",
       "    --sklearn-color-text-on-default-background: var(--sg-text-color, var(--theme-code-foreground, var(--jp-content-font-color1, white)));\n",
       "    --sklearn-color-background: var(--sg-background-color, var(--theme-background, var(--jp-layout-color0, #111)));\n",
       "    --sklearn-color-border-box: var(--sg-text-color, var(--theme-code-foreground, var(--jp-content-font-color1, white)));\n",
       "    --sklearn-color-icon: #878787;\n",
       "  }\n",
       "}\n",
       "\n",
       "#sk-container-id-1 {\n",
       "  color: var(--sklearn-color-text);\n",
       "}\n",
       "\n",
       "#sk-container-id-1 pre {\n",
       "  padding: 0;\n",
       "}\n",
       "\n",
       "#sk-container-id-1 input.sk-hidden--visually {\n",
       "  border: 0;\n",
       "  clip: rect(1px 1px 1px 1px);\n",
       "  clip: rect(1px, 1px, 1px, 1px);\n",
       "  height: 1px;\n",
       "  margin: -1px;\n",
       "  overflow: hidden;\n",
       "  padding: 0;\n",
       "  position: absolute;\n",
       "  width: 1px;\n",
       "}\n",
       "\n",
       "#sk-container-id-1 div.sk-dashed-wrapped {\n",
       "  border: 1px dashed var(--sklearn-color-line);\n",
       "  margin: 0 0.4em 0.5em 0.4em;\n",
       "  box-sizing: border-box;\n",
       "  padding-bottom: 0.4em;\n",
       "  background-color: var(--sklearn-color-background);\n",
       "}\n",
       "\n",
       "#sk-container-id-1 div.sk-container {\n",
       "  /* jupyter's `normalize.less` sets `[hidden] { display: none; }`\n",
       "     but bootstrap.min.css set `[hidden] { display: none !important; }`\n",
       "     so we also need the `!important` here to be able to override the\n",
       "     default hidden behavior on the sphinx rendered scikit-learn.org.\n",
       "     See: https://github.com/scikit-learn/scikit-learn/issues/21755 */\n",
       "  display: inline-block !important;\n",
       "  position: relative;\n",
       "}\n",
       "\n",
       "#sk-container-id-1 div.sk-text-repr-fallback {\n",
       "  display: none;\n",
       "}\n",
       "\n",
       "div.sk-parallel-item,\n",
       "div.sk-serial,\n",
       "div.sk-item {\n",
       "  /* draw centered vertical line to link estimators */\n",
       "  background-image: linear-gradient(var(--sklearn-color-text-on-default-background), var(--sklearn-color-text-on-default-background));\n",
       "  background-size: 2px 100%;\n",
       "  background-repeat: no-repeat;\n",
       "  background-position: center center;\n",
       "}\n",
       "\n",
       "/* Parallel-specific style estimator block */\n",
       "\n",
       "#sk-container-id-1 div.sk-parallel-item::after {\n",
       "  content: \"\";\n",
       "  width: 100%;\n",
       "  border-bottom: 2px solid var(--sklearn-color-text-on-default-background);\n",
       "  flex-grow: 1;\n",
       "}\n",
       "\n",
       "#sk-container-id-1 div.sk-parallel {\n",
       "  display: flex;\n",
       "  align-items: stretch;\n",
       "  justify-content: center;\n",
       "  background-color: var(--sklearn-color-background);\n",
       "  position: relative;\n",
       "}\n",
       "\n",
       "#sk-container-id-1 div.sk-parallel-item {\n",
       "  display: flex;\n",
       "  flex-direction: column;\n",
       "}\n",
       "\n",
       "#sk-container-id-1 div.sk-parallel-item:first-child::after {\n",
       "  align-self: flex-end;\n",
       "  width: 50%;\n",
       "}\n",
       "\n",
       "#sk-container-id-1 div.sk-parallel-item:last-child::after {\n",
       "  align-self: flex-start;\n",
       "  width: 50%;\n",
       "}\n",
       "\n",
       "#sk-container-id-1 div.sk-parallel-item:only-child::after {\n",
       "  width: 0;\n",
       "}\n",
       "\n",
       "/* Serial-specific style estimator block */\n",
       "\n",
       "#sk-container-id-1 div.sk-serial {\n",
       "  display: flex;\n",
       "  flex-direction: column;\n",
       "  align-items: center;\n",
       "  background-color: var(--sklearn-color-background);\n",
       "  padding-right: 1em;\n",
       "  padding-left: 1em;\n",
       "}\n",
       "\n",
       "\n",
       "/* Toggleable style: style used for estimator/Pipeline/ColumnTransformer box that is\n",
       "clickable and can be expanded/collapsed.\n",
       "- Pipeline and ColumnTransformer use this feature and define the default style\n",
       "- Estimators will overwrite some part of the style using the `sk-estimator` class\n",
       "*/\n",
       "\n",
       "/* Pipeline and ColumnTransformer style (default) */\n",
       "\n",
       "#sk-container-id-1 div.sk-toggleable {\n",
       "  /* Default theme specific background. It is overwritten whether we have a\n",
       "  specific estimator or a Pipeline/ColumnTransformer */\n",
       "  background-color: var(--sklearn-color-background);\n",
       "}\n",
       "\n",
       "/* Toggleable label */\n",
       "#sk-container-id-1 label.sk-toggleable__label {\n",
       "  cursor: pointer;\n",
       "  display: block;\n",
       "  width: 100%;\n",
       "  margin-bottom: 0;\n",
       "  padding: 0.5em;\n",
       "  box-sizing: border-box;\n",
       "  text-align: center;\n",
       "}\n",
       "\n",
       "#sk-container-id-1 label.sk-toggleable__label-arrow:before {\n",
       "  /* Arrow on the left of the label */\n",
       "  content: \"▸\";\n",
       "  float: left;\n",
       "  margin-right: 0.25em;\n",
       "  color: var(--sklearn-color-icon);\n",
       "}\n",
       "\n",
       "#sk-container-id-1 label.sk-toggleable__label-arrow:hover:before {\n",
       "  color: var(--sklearn-color-text);\n",
       "}\n",
       "\n",
       "/* Toggleable content - dropdown */\n",
       "\n",
       "#sk-container-id-1 div.sk-toggleable__content {\n",
       "  max-height: 0;\n",
       "  max-width: 0;\n",
       "  overflow: hidden;\n",
       "  text-align: left;\n",
       "  /* unfitted */\n",
       "  background-color: var(--sklearn-color-unfitted-level-0);\n",
       "}\n",
       "\n",
       "#sk-container-id-1 div.sk-toggleable__content.fitted {\n",
       "  /* fitted */\n",
       "  background-color: var(--sklearn-color-fitted-level-0);\n",
       "}\n",
       "\n",
       "#sk-container-id-1 div.sk-toggleable__content pre {\n",
       "  margin: 0.2em;\n",
       "  border-radius: 0.25em;\n",
       "  color: var(--sklearn-color-text);\n",
       "  /* unfitted */\n",
       "  background-color: var(--sklearn-color-unfitted-level-0);\n",
       "}\n",
       "\n",
       "#sk-container-id-1 div.sk-toggleable__content.fitted pre {\n",
       "  /* unfitted */\n",
       "  background-color: var(--sklearn-color-fitted-level-0);\n",
       "}\n",
       "\n",
       "#sk-container-id-1 input.sk-toggleable__control:checked~div.sk-toggleable__content {\n",
       "  /* Expand drop-down */\n",
       "  max-height: 200px;\n",
       "  max-width: 100%;\n",
       "  overflow: auto;\n",
       "}\n",
       "\n",
       "#sk-container-id-1 input.sk-toggleable__control:checked~label.sk-toggleable__label-arrow:before {\n",
       "  content: \"▾\";\n",
       "}\n",
       "\n",
       "/* Pipeline/ColumnTransformer-specific style */\n",
       "\n",
       "#sk-container-id-1 div.sk-label input.sk-toggleable__control:checked~label.sk-toggleable__label {\n",
       "  color: var(--sklearn-color-text);\n",
       "  background-color: var(--sklearn-color-unfitted-level-2);\n",
       "}\n",
       "\n",
       "#sk-container-id-1 div.sk-label.fitted input.sk-toggleable__control:checked~label.sk-toggleable__label {\n",
       "  background-color: var(--sklearn-color-fitted-level-2);\n",
       "}\n",
       "\n",
       "/* Estimator-specific style */\n",
       "\n",
       "/* Colorize estimator box */\n",
       "#sk-container-id-1 div.sk-estimator input.sk-toggleable__control:checked~label.sk-toggleable__label {\n",
       "  /* unfitted */\n",
       "  background-color: var(--sklearn-color-unfitted-level-2);\n",
       "}\n",
       "\n",
       "#sk-container-id-1 div.sk-estimator.fitted input.sk-toggleable__control:checked~label.sk-toggleable__label {\n",
       "  /* fitted */\n",
       "  background-color: var(--sklearn-color-fitted-level-2);\n",
       "}\n",
       "\n",
       "#sk-container-id-1 div.sk-label label.sk-toggleable__label,\n",
       "#sk-container-id-1 div.sk-label label {\n",
       "  /* The background is the default theme color */\n",
       "  color: var(--sklearn-color-text-on-default-background);\n",
       "}\n",
       "\n",
       "/* On hover, darken the color of the background */\n",
       "#sk-container-id-1 div.sk-label:hover label.sk-toggleable__label {\n",
       "  color: var(--sklearn-color-text);\n",
       "  background-color: var(--sklearn-color-unfitted-level-2);\n",
       "}\n",
       "\n",
       "/* Label box, darken color on hover, fitted */\n",
       "#sk-container-id-1 div.sk-label.fitted:hover label.sk-toggleable__label.fitted {\n",
       "  color: var(--sklearn-color-text);\n",
       "  background-color: var(--sklearn-color-fitted-level-2);\n",
       "}\n",
       "\n",
       "/* Estimator label */\n",
       "\n",
       "#sk-container-id-1 div.sk-label label {\n",
       "  font-family: monospace;\n",
       "  font-weight: bold;\n",
       "  display: inline-block;\n",
       "  line-height: 1.2em;\n",
       "}\n",
       "\n",
       "#sk-container-id-1 div.sk-label-container {\n",
       "  text-align: center;\n",
       "}\n",
       "\n",
       "/* Estimator-specific */\n",
       "#sk-container-id-1 div.sk-estimator {\n",
       "  font-family: monospace;\n",
       "  border: 1px dotted var(--sklearn-color-border-box);\n",
       "  border-radius: 0.25em;\n",
       "  box-sizing: border-box;\n",
       "  margin-bottom: 0.5em;\n",
       "  /* unfitted */\n",
       "  background-color: var(--sklearn-color-unfitted-level-0);\n",
       "}\n",
       "\n",
       "#sk-container-id-1 div.sk-estimator.fitted {\n",
       "  /* fitted */\n",
       "  background-color: var(--sklearn-color-fitted-level-0);\n",
       "}\n",
       "\n",
       "/* on hover */\n",
       "#sk-container-id-1 div.sk-estimator:hover {\n",
       "  /* unfitted */\n",
       "  background-color: var(--sklearn-color-unfitted-level-2);\n",
       "}\n",
       "\n",
       "#sk-container-id-1 div.sk-estimator.fitted:hover {\n",
       "  /* fitted */\n",
       "  background-color: var(--sklearn-color-fitted-level-2);\n",
       "}\n",
       "\n",
       "/* Specification for estimator info (e.g. \"i\" and \"?\") */\n",
       "\n",
       "/* Common style for \"i\" and \"?\" */\n",
       "\n",
       ".sk-estimator-doc-link,\n",
       "a:link.sk-estimator-doc-link,\n",
       "a:visited.sk-estimator-doc-link {\n",
       "  float: right;\n",
       "  font-size: smaller;\n",
       "  line-height: 1em;\n",
       "  font-family: monospace;\n",
       "  background-color: var(--sklearn-color-background);\n",
       "  border-radius: 1em;\n",
       "  height: 1em;\n",
       "  width: 1em;\n",
       "  text-decoration: none !important;\n",
       "  margin-left: 1ex;\n",
       "  /* unfitted */\n",
       "  border: var(--sklearn-color-unfitted-level-1) 1pt solid;\n",
       "  color: var(--sklearn-color-unfitted-level-1);\n",
       "}\n",
       "\n",
       ".sk-estimator-doc-link.fitted,\n",
       "a:link.sk-estimator-doc-link.fitted,\n",
       "a:visited.sk-estimator-doc-link.fitted {\n",
       "  /* fitted */\n",
       "  border: var(--sklearn-color-fitted-level-1) 1pt solid;\n",
       "  color: var(--sklearn-color-fitted-level-1);\n",
       "}\n",
       "\n",
       "/* On hover */\n",
       "div.sk-estimator:hover .sk-estimator-doc-link:hover,\n",
       ".sk-estimator-doc-link:hover,\n",
       "div.sk-label-container:hover .sk-estimator-doc-link:hover,\n",
       ".sk-estimator-doc-link:hover {\n",
       "  /* unfitted */\n",
       "  background-color: var(--sklearn-color-unfitted-level-3);\n",
       "  color: var(--sklearn-color-background);\n",
       "  text-decoration: none;\n",
       "}\n",
       "\n",
       "div.sk-estimator.fitted:hover .sk-estimator-doc-link.fitted:hover,\n",
       ".sk-estimator-doc-link.fitted:hover,\n",
       "div.sk-label-container:hover .sk-estimator-doc-link.fitted:hover,\n",
       ".sk-estimator-doc-link.fitted:hover {\n",
       "  /* fitted */\n",
       "  background-color: var(--sklearn-color-fitted-level-3);\n",
       "  color: var(--sklearn-color-background);\n",
       "  text-decoration: none;\n",
       "}\n",
       "\n",
       "/* Span, style for the box shown on hovering the info icon */\n",
       ".sk-estimator-doc-link span {\n",
       "  display: none;\n",
       "  z-index: 9999;\n",
       "  position: relative;\n",
       "  font-weight: normal;\n",
       "  right: .2ex;\n",
       "  padding: .5ex;\n",
       "  margin: .5ex;\n",
       "  width: min-content;\n",
       "  min-width: 20ex;\n",
       "  max-width: 50ex;\n",
       "  color: var(--sklearn-color-text);\n",
       "  box-shadow: 2pt 2pt 4pt #999;\n",
       "  /* unfitted */\n",
       "  background: var(--sklearn-color-unfitted-level-0);\n",
       "  border: .5pt solid var(--sklearn-color-unfitted-level-3);\n",
       "}\n",
       "\n",
       ".sk-estimator-doc-link.fitted span {\n",
       "  /* fitted */\n",
       "  background: var(--sklearn-color-fitted-level-0);\n",
       "  border: var(--sklearn-color-fitted-level-3);\n",
       "}\n",
       "\n",
       ".sk-estimator-doc-link:hover span {\n",
       "  display: block;\n",
       "}\n",
       "\n",
       "/* \"?\"-specific style due to the `<a>` HTML tag */\n",
       "\n",
       "#sk-container-id-1 a.estimator_doc_link {\n",
       "  float: right;\n",
       "  font-size: 1rem;\n",
       "  line-height: 1em;\n",
       "  font-family: monospace;\n",
       "  background-color: var(--sklearn-color-background);\n",
       "  border-radius: 1rem;\n",
       "  height: 1rem;\n",
       "  width: 1rem;\n",
       "  text-decoration: none;\n",
       "  /* unfitted */\n",
       "  color: var(--sklearn-color-unfitted-level-1);\n",
       "  border: var(--sklearn-color-unfitted-level-1) 1pt solid;\n",
       "}\n",
       "\n",
       "#sk-container-id-1 a.estimator_doc_link.fitted {\n",
       "  /* fitted */\n",
       "  border: var(--sklearn-color-fitted-level-1) 1pt solid;\n",
       "  color: var(--sklearn-color-fitted-level-1);\n",
       "}\n",
       "\n",
       "/* On hover */\n",
       "#sk-container-id-1 a.estimator_doc_link:hover {\n",
       "  /* unfitted */\n",
       "  background-color: var(--sklearn-color-unfitted-level-3);\n",
       "  color: var(--sklearn-color-background);\n",
       "  text-decoration: none;\n",
       "}\n",
       "\n",
       "#sk-container-id-1 a.estimator_doc_link.fitted:hover {\n",
       "  /* fitted */\n",
       "  background-color: var(--sklearn-color-fitted-level-3);\n",
       "}\n",
       "</style><div id=\"sk-container-id-1\" class=\"sk-top-container\"><div class=\"sk-text-repr-fallback\"><pre>KNeighborsClassifier(n_neighbors=13)</pre><b>In a Jupyter environment, please rerun this cell to show the HTML representation or trust the notebook. <br />On GitHub, the HTML representation is unable to render, please try loading this page with nbviewer.org.</b></div><div class=\"sk-container\" hidden><div class=\"sk-item\"><div class=\"sk-estimator fitted sk-toggleable\"><input class=\"sk-toggleable__control sk-hidden--visually\" id=\"sk-estimator-id-1\" type=\"checkbox\" checked><label for=\"sk-estimator-id-1\" class=\"sk-toggleable__label fitted sk-toggleable__label-arrow fitted\">&nbsp;&nbsp;KNeighborsClassifier<a class=\"sk-estimator-doc-link fitted\" rel=\"noreferrer\" target=\"_blank\" href=\"https://scikit-learn.org/1.5/modules/generated/sklearn.neighbors.KNeighborsClassifier.html\">?<span>Documentation for KNeighborsClassifier</span></a><span class=\"sk-estimator-doc-link fitted\">i<span>Fitted</span></span></label><div class=\"sk-toggleable__content fitted\"><pre>KNeighborsClassifier(n_neighbors=13)</pre></div> </div></div></div></div>"
      ],
      "text/plain": [
       "KNeighborsClassifier(n_neighbors=13)"
      ]
     },
     "execution_count": 64,
     "metadata": {},
     "output_type": "execute_result"
    }
   ],
   "source": [
    "knn_grid.best_estimator_"
   ]
  },
  {
   "cell_type": "code",
   "execution_count": 65,
   "id": "1d605f4b",
   "metadata": {},
   "outputs": [
    {
     "name": "stdout",
     "output_type": "stream",
     "text": [
      "Train Accuracy : 0.8226950354609929\n",
      "Cross validation score: [0.82352941 0.8        0.81176471 0.83333333 0.8452381 ]\n",
      "Test Accuracy :  0.7830188679245284\n"
     ]
    }
   ],
   "source": [
    "#Support Vector Machine(svm)\n",
    "from sklearn.svm import SVC\n",
    "estimator = SVC()\n",
    "param_grid = {'C':[0.01,0.1,1], 'kernel':['linear','rbf','sigmoid','poly']}\n",
    "from sklearn.model_selection import GridSearchCV\n",
    "svm_grid = GridSearchCV(estimator, param_grid, scoring='accuracy', cv=5)\n",
    "svm_grid.fit(X_train, y_train)\n",
    "svm_model = svm_grid.best_estimator_\n",
    "ypred_train = svm_model.predict(X_train)\n",
    "ypred_test = svm_model.predict(X_test)\n",
    "print(\"Train Accuracy :\", accuracy_score(y_train, ypred_train))\n",
    "print(\"Cross validation score:\", cross_val_score(svm_model, X_train, y_train, cv=5, scoring=\"accuracy\"))\n",
    "print(\"Test Accuracy : \", accuracy_score(y_test, ypred_test))"
   ]
  },
  {
   "cell_type": "code",
   "execution_count": 66,
   "id": "a627ae55",
   "metadata": {},
   "outputs": [
    {
     "data": {
      "text/html": [
       "<style>#sk-container-id-2 {\n",
       "  /* Definition of color scheme common for light and dark mode */\n",
       "  --sklearn-color-text: black;\n",
       "  --sklearn-color-line: gray;\n",
       "  /* Definition of color scheme for unfitted estimators */\n",
       "  --sklearn-color-unfitted-level-0: #fff5e6;\n",
       "  --sklearn-color-unfitted-level-1: #f6e4d2;\n",
       "  --sklearn-color-unfitted-level-2: #ffe0b3;\n",
       "  --sklearn-color-unfitted-level-3: chocolate;\n",
       "  /* Definition of color scheme for fitted estimators */\n",
       "  --sklearn-color-fitted-level-0: #f0f8ff;\n",
       "  --sklearn-color-fitted-level-1: #d4ebff;\n",
       "  --sklearn-color-fitted-level-2: #b3dbfd;\n",
       "  --sklearn-color-fitted-level-3: cornflowerblue;\n",
       "\n",
       "  /* Specific color for light theme */\n",
       "  --sklearn-color-text-on-default-background: var(--sg-text-color, var(--theme-code-foreground, var(--jp-content-font-color1, black)));\n",
       "  --sklearn-color-background: var(--sg-background-color, var(--theme-background, var(--jp-layout-color0, white)));\n",
       "  --sklearn-color-border-box: var(--sg-text-color, var(--theme-code-foreground, var(--jp-content-font-color1, black)));\n",
       "  --sklearn-color-icon: #696969;\n",
       "\n",
       "  @media (prefers-color-scheme: dark) {\n",
       "    /* Redefinition of color scheme for dark theme */\n",
       "    --sklearn-color-text-on-default-background: var(--sg-text-color, var(--theme-code-foreground, var(--jp-content-font-color1, white)));\n",
       "    --sklearn-color-background: var(--sg-background-color, var(--theme-background, var(--jp-layout-color0, #111)));\n",
       "    --sklearn-color-border-box: var(--sg-text-color, var(--theme-code-foreground, var(--jp-content-font-color1, white)));\n",
       "    --sklearn-color-icon: #878787;\n",
       "  }\n",
       "}\n",
       "\n",
       "#sk-container-id-2 {\n",
       "  color: var(--sklearn-color-text);\n",
       "}\n",
       "\n",
       "#sk-container-id-2 pre {\n",
       "  padding: 0;\n",
       "}\n",
       "\n",
       "#sk-container-id-2 input.sk-hidden--visually {\n",
       "  border: 0;\n",
       "  clip: rect(1px 1px 1px 1px);\n",
       "  clip: rect(1px, 1px, 1px, 1px);\n",
       "  height: 1px;\n",
       "  margin: -1px;\n",
       "  overflow: hidden;\n",
       "  padding: 0;\n",
       "  position: absolute;\n",
       "  width: 1px;\n",
       "}\n",
       "\n",
       "#sk-container-id-2 div.sk-dashed-wrapped {\n",
       "  border: 1px dashed var(--sklearn-color-line);\n",
       "  margin: 0 0.4em 0.5em 0.4em;\n",
       "  box-sizing: border-box;\n",
       "  padding-bottom: 0.4em;\n",
       "  background-color: var(--sklearn-color-background);\n",
       "}\n",
       "\n",
       "#sk-container-id-2 div.sk-container {\n",
       "  /* jupyter's `normalize.less` sets `[hidden] { display: none; }`\n",
       "     but bootstrap.min.css set `[hidden] { display: none !important; }`\n",
       "     so we also need the `!important` here to be able to override the\n",
       "     default hidden behavior on the sphinx rendered scikit-learn.org.\n",
       "     See: https://github.com/scikit-learn/scikit-learn/issues/21755 */\n",
       "  display: inline-block !important;\n",
       "  position: relative;\n",
       "}\n",
       "\n",
       "#sk-container-id-2 div.sk-text-repr-fallback {\n",
       "  display: none;\n",
       "}\n",
       "\n",
       "div.sk-parallel-item,\n",
       "div.sk-serial,\n",
       "div.sk-item {\n",
       "  /* draw centered vertical line to link estimators */\n",
       "  background-image: linear-gradient(var(--sklearn-color-text-on-default-background), var(--sklearn-color-text-on-default-background));\n",
       "  background-size: 2px 100%;\n",
       "  background-repeat: no-repeat;\n",
       "  background-position: center center;\n",
       "}\n",
       "\n",
       "/* Parallel-specific style estimator block */\n",
       "\n",
       "#sk-container-id-2 div.sk-parallel-item::after {\n",
       "  content: \"\";\n",
       "  width: 100%;\n",
       "  border-bottom: 2px solid var(--sklearn-color-text-on-default-background);\n",
       "  flex-grow: 1;\n",
       "}\n",
       "\n",
       "#sk-container-id-2 div.sk-parallel {\n",
       "  display: flex;\n",
       "  align-items: stretch;\n",
       "  justify-content: center;\n",
       "  background-color: var(--sklearn-color-background);\n",
       "  position: relative;\n",
       "}\n",
       "\n",
       "#sk-container-id-2 div.sk-parallel-item {\n",
       "  display: flex;\n",
       "  flex-direction: column;\n",
       "}\n",
       "\n",
       "#sk-container-id-2 div.sk-parallel-item:first-child::after {\n",
       "  align-self: flex-end;\n",
       "  width: 50%;\n",
       "}\n",
       "\n",
       "#sk-container-id-2 div.sk-parallel-item:last-child::after {\n",
       "  align-self: flex-start;\n",
       "  width: 50%;\n",
       "}\n",
       "\n",
       "#sk-container-id-2 div.sk-parallel-item:only-child::after {\n",
       "  width: 0;\n",
       "}\n",
       "\n",
       "/* Serial-specific style estimator block */\n",
       "\n",
       "#sk-container-id-2 div.sk-serial {\n",
       "  display: flex;\n",
       "  flex-direction: column;\n",
       "  align-items: center;\n",
       "  background-color: var(--sklearn-color-background);\n",
       "  padding-right: 1em;\n",
       "  padding-left: 1em;\n",
       "}\n",
       "\n",
       "\n",
       "/* Toggleable style: style used for estimator/Pipeline/ColumnTransformer box that is\n",
       "clickable and can be expanded/collapsed.\n",
       "- Pipeline and ColumnTransformer use this feature and define the default style\n",
       "- Estimators will overwrite some part of the style using the `sk-estimator` class\n",
       "*/\n",
       "\n",
       "/* Pipeline and ColumnTransformer style (default) */\n",
       "\n",
       "#sk-container-id-2 div.sk-toggleable {\n",
       "  /* Default theme specific background. It is overwritten whether we have a\n",
       "  specific estimator or a Pipeline/ColumnTransformer */\n",
       "  background-color: var(--sklearn-color-background);\n",
       "}\n",
       "\n",
       "/* Toggleable label */\n",
       "#sk-container-id-2 label.sk-toggleable__label {\n",
       "  cursor: pointer;\n",
       "  display: block;\n",
       "  width: 100%;\n",
       "  margin-bottom: 0;\n",
       "  padding: 0.5em;\n",
       "  box-sizing: border-box;\n",
       "  text-align: center;\n",
       "}\n",
       "\n",
       "#sk-container-id-2 label.sk-toggleable__label-arrow:before {\n",
       "  /* Arrow on the left of the label */\n",
       "  content: \"▸\";\n",
       "  float: left;\n",
       "  margin-right: 0.25em;\n",
       "  color: var(--sklearn-color-icon);\n",
       "}\n",
       "\n",
       "#sk-container-id-2 label.sk-toggleable__label-arrow:hover:before {\n",
       "  color: var(--sklearn-color-text);\n",
       "}\n",
       "\n",
       "/* Toggleable content - dropdown */\n",
       "\n",
       "#sk-container-id-2 div.sk-toggleable__content {\n",
       "  max-height: 0;\n",
       "  max-width: 0;\n",
       "  overflow: hidden;\n",
       "  text-align: left;\n",
       "  /* unfitted */\n",
       "  background-color: var(--sklearn-color-unfitted-level-0);\n",
       "}\n",
       "\n",
       "#sk-container-id-2 div.sk-toggleable__content.fitted {\n",
       "  /* fitted */\n",
       "  background-color: var(--sklearn-color-fitted-level-0);\n",
       "}\n",
       "\n",
       "#sk-container-id-2 div.sk-toggleable__content pre {\n",
       "  margin: 0.2em;\n",
       "  border-radius: 0.25em;\n",
       "  color: var(--sklearn-color-text);\n",
       "  /* unfitted */\n",
       "  background-color: var(--sklearn-color-unfitted-level-0);\n",
       "}\n",
       "\n",
       "#sk-container-id-2 div.sk-toggleable__content.fitted pre {\n",
       "  /* unfitted */\n",
       "  background-color: var(--sklearn-color-fitted-level-0);\n",
       "}\n",
       "\n",
       "#sk-container-id-2 input.sk-toggleable__control:checked~div.sk-toggleable__content {\n",
       "  /* Expand drop-down */\n",
       "  max-height: 200px;\n",
       "  max-width: 100%;\n",
       "  overflow: auto;\n",
       "}\n",
       "\n",
       "#sk-container-id-2 input.sk-toggleable__control:checked~label.sk-toggleable__label-arrow:before {\n",
       "  content: \"▾\";\n",
       "}\n",
       "\n",
       "/* Pipeline/ColumnTransformer-specific style */\n",
       "\n",
       "#sk-container-id-2 div.sk-label input.sk-toggleable__control:checked~label.sk-toggleable__label {\n",
       "  color: var(--sklearn-color-text);\n",
       "  background-color: var(--sklearn-color-unfitted-level-2);\n",
       "}\n",
       "\n",
       "#sk-container-id-2 div.sk-label.fitted input.sk-toggleable__control:checked~label.sk-toggleable__label {\n",
       "  background-color: var(--sklearn-color-fitted-level-2);\n",
       "}\n",
       "\n",
       "/* Estimator-specific style */\n",
       "\n",
       "/* Colorize estimator box */\n",
       "#sk-container-id-2 div.sk-estimator input.sk-toggleable__control:checked~label.sk-toggleable__label {\n",
       "  /* unfitted */\n",
       "  background-color: var(--sklearn-color-unfitted-level-2);\n",
       "}\n",
       "\n",
       "#sk-container-id-2 div.sk-estimator.fitted input.sk-toggleable__control:checked~label.sk-toggleable__label {\n",
       "  /* fitted */\n",
       "  background-color: var(--sklearn-color-fitted-level-2);\n",
       "}\n",
       "\n",
       "#sk-container-id-2 div.sk-label label.sk-toggleable__label,\n",
       "#sk-container-id-2 div.sk-label label {\n",
       "  /* The background is the default theme color */\n",
       "  color: var(--sklearn-color-text-on-default-background);\n",
       "}\n",
       "\n",
       "/* On hover, darken the color of the background */\n",
       "#sk-container-id-2 div.sk-label:hover label.sk-toggleable__label {\n",
       "  color: var(--sklearn-color-text);\n",
       "  background-color: var(--sklearn-color-unfitted-level-2);\n",
       "}\n",
       "\n",
       "/* Label box, darken color on hover, fitted */\n",
       "#sk-container-id-2 div.sk-label.fitted:hover label.sk-toggleable__label.fitted {\n",
       "  color: var(--sklearn-color-text);\n",
       "  background-color: var(--sklearn-color-fitted-level-2);\n",
       "}\n",
       "\n",
       "/* Estimator label */\n",
       "\n",
       "#sk-container-id-2 div.sk-label label {\n",
       "  font-family: monospace;\n",
       "  font-weight: bold;\n",
       "  display: inline-block;\n",
       "  line-height: 1.2em;\n",
       "}\n",
       "\n",
       "#sk-container-id-2 div.sk-label-container {\n",
       "  text-align: center;\n",
       "}\n",
       "\n",
       "/* Estimator-specific */\n",
       "#sk-container-id-2 div.sk-estimator {\n",
       "  font-family: monospace;\n",
       "  border: 1px dotted var(--sklearn-color-border-box);\n",
       "  border-radius: 0.25em;\n",
       "  box-sizing: border-box;\n",
       "  margin-bottom: 0.5em;\n",
       "  /* unfitted */\n",
       "  background-color: var(--sklearn-color-unfitted-level-0);\n",
       "}\n",
       "\n",
       "#sk-container-id-2 div.sk-estimator.fitted {\n",
       "  /* fitted */\n",
       "  background-color: var(--sklearn-color-fitted-level-0);\n",
       "}\n",
       "\n",
       "/* on hover */\n",
       "#sk-container-id-2 div.sk-estimator:hover {\n",
       "  /* unfitted */\n",
       "  background-color: var(--sklearn-color-unfitted-level-2);\n",
       "}\n",
       "\n",
       "#sk-container-id-2 div.sk-estimator.fitted:hover {\n",
       "  /* fitted */\n",
       "  background-color: var(--sklearn-color-fitted-level-2);\n",
       "}\n",
       "\n",
       "/* Specification for estimator info (e.g. \"i\" and \"?\") */\n",
       "\n",
       "/* Common style for \"i\" and \"?\" */\n",
       "\n",
       ".sk-estimator-doc-link,\n",
       "a:link.sk-estimator-doc-link,\n",
       "a:visited.sk-estimator-doc-link {\n",
       "  float: right;\n",
       "  font-size: smaller;\n",
       "  line-height: 1em;\n",
       "  font-family: monospace;\n",
       "  background-color: var(--sklearn-color-background);\n",
       "  border-radius: 1em;\n",
       "  height: 1em;\n",
       "  width: 1em;\n",
       "  text-decoration: none !important;\n",
       "  margin-left: 1ex;\n",
       "  /* unfitted */\n",
       "  border: var(--sklearn-color-unfitted-level-1) 1pt solid;\n",
       "  color: var(--sklearn-color-unfitted-level-1);\n",
       "}\n",
       "\n",
       ".sk-estimator-doc-link.fitted,\n",
       "a:link.sk-estimator-doc-link.fitted,\n",
       "a:visited.sk-estimator-doc-link.fitted {\n",
       "  /* fitted */\n",
       "  border: var(--sklearn-color-fitted-level-1) 1pt solid;\n",
       "  color: var(--sklearn-color-fitted-level-1);\n",
       "}\n",
       "\n",
       "/* On hover */\n",
       "div.sk-estimator:hover .sk-estimator-doc-link:hover,\n",
       ".sk-estimator-doc-link:hover,\n",
       "div.sk-label-container:hover .sk-estimator-doc-link:hover,\n",
       ".sk-estimator-doc-link:hover {\n",
       "  /* unfitted */\n",
       "  background-color: var(--sklearn-color-unfitted-level-3);\n",
       "  color: var(--sklearn-color-background);\n",
       "  text-decoration: none;\n",
       "}\n",
       "\n",
       "div.sk-estimator.fitted:hover .sk-estimator-doc-link.fitted:hover,\n",
       ".sk-estimator-doc-link.fitted:hover,\n",
       "div.sk-label-container:hover .sk-estimator-doc-link.fitted:hover,\n",
       ".sk-estimator-doc-link.fitted:hover {\n",
       "  /* fitted */\n",
       "  background-color: var(--sklearn-color-fitted-level-3);\n",
       "  color: var(--sklearn-color-background);\n",
       "  text-decoration: none;\n",
       "}\n",
       "\n",
       "/* Span, style for the box shown on hovering the info icon */\n",
       ".sk-estimator-doc-link span {\n",
       "  display: none;\n",
       "  z-index: 9999;\n",
       "  position: relative;\n",
       "  font-weight: normal;\n",
       "  right: .2ex;\n",
       "  padding: .5ex;\n",
       "  margin: .5ex;\n",
       "  width: min-content;\n",
       "  min-width: 20ex;\n",
       "  max-width: 50ex;\n",
       "  color: var(--sklearn-color-text);\n",
       "  box-shadow: 2pt 2pt 4pt #999;\n",
       "  /* unfitted */\n",
       "  background: var(--sklearn-color-unfitted-level-0);\n",
       "  border: .5pt solid var(--sklearn-color-unfitted-level-3);\n",
       "}\n",
       "\n",
       ".sk-estimator-doc-link.fitted span {\n",
       "  /* fitted */\n",
       "  background: var(--sklearn-color-fitted-level-0);\n",
       "  border: var(--sklearn-color-fitted-level-3);\n",
       "}\n",
       "\n",
       ".sk-estimator-doc-link:hover span {\n",
       "  display: block;\n",
       "}\n",
       "\n",
       "/* \"?\"-specific style due to the `<a>` HTML tag */\n",
       "\n",
       "#sk-container-id-2 a.estimator_doc_link {\n",
       "  float: right;\n",
       "  font-size: 1rem;\n",
       "  line-height: 1em;\n",
       "  font-family: monospace;\n",
       "  background-color: var(--sklearn-color-background);\n",
       "  border-radius: 1rem;\n",
       "  height: 1rem;\n",
       "  width: 1rem;\n",
       "  text-decoration: none;\n",
       "  /* unfitted */\n",
       "  color: var(--sklearn-color-unfitted-level-1);\n",
       "  border: var(--sklearn-color-unfitted-level-1) 1pt solid;\n",
       "}\n",
       "\n",
       "#sk-container-id-2 a.estimator_doc_link.fitted {\n",
       "  /* fitted */\n",
       "  border: var(--sklearn-color-fitted-level-1) 1pt solid;\n",
       "  color: var(--sklearn-color-fitted-level-1);\n",
       "}\n",
       "\n",
       "/* On hover */\n",
       "#sk-container-id-2 a.estimator_doc_link:hover {\n",
       "  /* unfitted */\n",
       "  background-color: var(--sklearn-color-unfitted-level-3);\n",
       "  color: var(--sklearn-color-background);\n",
       "  text-decoration: none;\n",
       "}\n",
       "\n",
       "#sk-container-id-2 a.estimator_doc_link.fitted:hover {\n",
       "  /* fitted */\n",
       "  background-color: var(--sklearn-color-fitted-level-3);\n",
       "}\n",
       "</style><div id=\"sk-container-id-2\" class=\"sk-top-container\"><div class=\"sk-text-repr-fallback\"><pre>SVC(C=0.1, kernel=&#x27;linear&#x27;)</pre><b>In a Jupyter environment, please rerun this cell to show the HTML representation or trust the notebook. <br />On GitHub, the HTML representation is unable to render, please try loading this page with nbviewer.org.</b></div><div class=\"sk-container\" hidden><div class=\"sk-item\"><div class=\"sk-estimator fitted sk-toggleable\"><input class=\"sk-toggleable__control sk-hidden--visually\" id=\"sk-estimator-id-2\" type=\"checkbox\" checked><label for=\"sk-estimator-id-2\" class=\"sk-toggleable__label fitted sk-toggleable__label-arrow fitted\">&nbsp;&nbsp;SVC<a class=\"sk-estimator-doc-link fitted\" rel=\"noreferrer\" target=\"_blank\" href=\"https://scikit-learn.org/1.5/modules/generated/sklearn.svm.SVC.html\">?<span>Documentation for SVC</span></a><span class=\"sk-estimator-doc-link fitted\">i<span>Fitted</span></span></label><div class=\"sk-toggleable__content fitted\"><pre>SVC(C=0.1, kernel=&#x27;linear&#x27;)</pre></div> </div></div></div></div>"
      ],
      "text/plain": [
       "SVC(C=0.1, kernel='linear')"
      ]
     },
     "execution_count": 66,
     "metadata": {},
     "output_type": "execute_result"
    }
   ],
   "source": [
    "svm_grid.best_estimator_"
   ]
  },
  {
   "cell_type": "code",
   "execution_count": 67,
   "id": "34da743d",
   "metadata": {},
   "outputs": [
    {
     "name": "stdout",
     "output_type": "stream",
     "text": [
      "Train Accuracy :  0.8226950354609929\n",
      "Cross validation score: 0.8227731092436976\n",
      "Test Accuracy :  0.7830188679245284\n"
     ]
    }
   ],
   "source": [
    "#Decision Tree Classifer\n",
    "from sklearn.tree import DecisionTreeClassifier\n",
    "estimator = DecisionTreeClassifier (random_state=rs)\n",
    "param_grid = {\"criterion\": [\"gini\", \"entropy\"],\"max_depth\": list (range(1,16))}\n",
    "\n",
    "from sklearn.model_selection import GridSearchCV\n",
    "dt_grid = GridSearchCV(estimator, param_grid, scoring='accuracy', cv=5)\n",
    "dt_grid.fit(X_train,y_train)\n",
    "\n",
    "dt = dt_grid.best_estimator_\n",
    "\n",
    "dt_fi = dt.feature_importances_\n",
    "\n",
    "#identify the features where the feature importance is greater than 0\n",
    "\n",
    "index = [i for i,x in enumerate (dt_fi) if x >0]\n",
    "\n",
    "#create new dataset with important features\n",
    "\n",
    "X_train_dt = X_train.iloc[:,index]\n",
    "X_test_dt = X_test.iloc[:,index]\n",
    "\n",
    "#train with best model & with important features\n",
    "\n",
    "dt.fit(X_train_dt,y_train)\n",
    "\n",
    "ypred_train = dt.predict(X_train_dt)\n",
    "ypred_test = dt.predict(X_test_dt)\n",
    "\n",
    "#Evaluate the best model\n",
    "\n",
    "print(\"Train Accuracy : \", accuracy_score(y_train, ypred_train))\n",
    "print(\"Cross validation score:\", cross_val_score(dt, X_train_dt,y_train,cv=5,scoring=\"accuracy\").mean())\n",
    "print(\"Test Accuracy : \", accuracy_score(y_test, ypred_test))"
   ]
  },
  {
   "cell_type": "code",
   "execution_count": 68,
   "id": "cd8d1ddf",
   "metadata": {},
   "outputs": [
    {
     "name": "stdout",
     "output_type": "stream",
     "text": [
      "Train Accuracy :  0.9905437352245863\n",
      "Cross validation score: 0.8063025210084034\n",
      "Test Accuracy:  0.7641509433962265\n"
     ]
    }
   ],
   "source": [
    "#Random Forest Classifier\n",
    "from sklearn.ensemble import RandomForestClassifier\n",
    "estimator = RandomForestClassifier(random_state=rs)\n",
    "param_grid = {'n_estimators': list(range(1,51))}\n",
    "\n",
    "from sklearn.model_selection import GridSearchCV\n",
    "rf_grid = GridSearchCV(estimator, param_grid, scoring=\"accuracy\", cv=5)\n",
    "rf_grid.fit(X_train,y_train)\n",
    "\n",
    "rf = rf_grid.best_estimator_\n",
    "rf_fi = rf.feature_importances_\n",
    "\n",
    "index = [i for i,x in enumerate (rf_fi) if x>0]\n",
    "\n",
    "X_train_rf = X_train.iloc[:,index]\n",
    "X_test_rf = X_test.iloc[:,index]\n",
    "\n",
    "rf.fit(X_train_rf,y_train)\n",
    "\n",
    "ypred_train = rf.predict(X_train_rf)\n",
    "ypred_test = rf.predict(X_test_rf)\n",
    "\n",
    "print(\"Train Accuracy : \", accuracy_score(y_train,ypred_train))\n",
    "print(\"Cross validation score:\", cross_val_score(rf, X_train_rf,y_train,cv=5, scoring=\"accuracy\").mean())\n",
    "print(\"Test Accuracy: \", accuracy_score(y_test,ypred_test))"
   ]
  },
  {
   "cell_type": "code",
   "execution_count": 69,
   "id": "3217bed8",
   "metadata": {},
   "outputs": [
    {
     "name": "stdout",
     "output_type": "stream",
     "text": [
      "Train Accuracy :  0.83451536643026\n",
      "Cross validation score: 0.8298879551820729\n",
      "Test Accuracy :  0.7641509433962265\n"
     ]
    }
   ],
   "source": [
    "#AdaBoost Classifer\n",
    "from sklearn.ensemble import AdaBoostClassifier\n",
    "estimator = AdaBoostClassifier(random_state=rs)\n",
    "param_grid = {'n_estimators': list(range(1,51))}\n",
    "\n",
    "from sklearn.model_selection import GridSearchCV\n",
    "ab_grid = GridSearchCV(estimator, param_grid, scoring=\"accuracy\", cv=5)\n",
    "ab_grid.fit(X_train,y_train)\n",
    "\n",
    "ab = ab_grid.best_estimator_\n",
    "ab_fi = ab.feature_importances_\n",
    "\n",
    "index = [i for i,x in enumerate(ab_fi) if x>0]\n",
    "\n",
    "X_train_ab = X_train.iloc[:,index]\n",
    "X_test_ab = X_test.iloc[:,index] \n",
    "\n",
    "ab.fit(X_train_ab,y_train)\n",
    "\n",
    "ypred_train = ab.predict(X_train_ab)\n",
    "ypred_test = ab.predict(X_test_ab)\n",
    "\n",
    "print(\"Train Accuracy : \", accuracy_score(y_train, ypred_train))\n",
    "print(\"Cross validation score:\", cross_val_score(ab,X_train_ab,y_train,cv=5, scoring=\"accuracy\").mean())\n",
    "print(\"Test Accuracy : \", accuracy_score(y_test,ypred_test))\n"
   ]
  },
  {
   "cell_type": "code",
   "execution_count": 70,
   "id": "44432ac2",
   "metadata": {},
   "outputs": [
    {
     "name": "stdout",
     "output_type": "stream",
     "text": [
      "Train Accuracy : 0.8392434988179669\n",
      "Cross validation score: 0.82515406162465\n",
      "Test Accuracy :  0.7735849056603774\n"
     ]
    }
   ],
   "source": [
    "#Gradient Boost Classifier\n",
    "from sklearn.ensemble import GradientBoostingClassifier\n",
    "estimator = GradientBoostingClassifier(random_state=rs)\n",
    "param_grid = {\"n_estimators\": list (range (1,10)), \"learning_rate\" : [0.1,0.2,0.3,0.4,0.5,0.7,0.9]}\n",
    "\n",
    "from sklearn.model_selection import GridSearchCV\n",
    "gb_grid = GridSearchCV (estimator, param_grid, scoring=\"accuracy\", cv=5)\n",
    "gb_grid.fit(X_train,y_train)\n",
    "\n",
    "gb = gb_grid.best_estimator_\n",
    "gb_fi = gb.feature_importances_\n",
    "\n",
    "index = [i for i,x in enumerate(gb_fi) if x>0]\n",
    "\n",
    "X_train_gb = X_train.iloc[:,index]\n",
    "X_test_gb = X_test.iloc[:,index]\n",
    "\n",
    "gb.fit(X_train_gb,y_train)\n",
    "\n",
    "ypred_train = gb.predict(X_train_gb)\n",
    "ypred_test = gb.predict(X_test_gb)\n",
    "\n",
    "print(\"Train Accuracy :\", accuracy_score(y_train, ypred_train))\n",
    "print(\"Cross validation score:\", cross_val_score(gb,X_train_gb,y_train,cv=5, scoring=\"accuracy\").mean())\n",
    "print(\"Test Accuracy : \", accuracy_score(y_test,ypred_test))\n"
   ]
  },
  {
   "cell_type": "code",
   "execution_count": 71,
   "id": "e34fa54e",
   "metadata": {},
   "outputs": [],
   "source": [
    "from sklearn.model_selection import cross_val_score\n"
   ]
  },
  {
   "cell_type": "code",
   "execution_count": 72,
   "id": "80835498",
   "metadata": {},
   "outputs": [
    {
     "name": "stdout",
     "output_type": "stream",
     "text": [
      "Train Accuracy: 0.8557919621749409\n",
      "Cross-validation score: 0.8275070028011206\n",
      "Test Accuracy: 0.7735849056603774\n"
     ]
    }
   ],
   "source": [
    "from xgboost import XGBClassifier\n",
    "from sklearn.model_selection import GridSearchCV, cross_val_score  # Correct import for cross_val_score\n",
    "from sklearn.metrics import accuracy_score\n",
    "\n",
    "# Assuming rs is already defined (random_state)\n",
    "estimator = XGBClassifier(random_state=rs)\n",
    "\n",
    "# Define parameter grid for hyperparameter tuning\n",
    "param_grid = {\"n_estimators\": [10, 20, 40, 100], 'max_depth': [3, 4, 5], 'gamma': [0, 0.15, 0.3, 0.5, 1]}\n",
    "\n",
    "# Perform Grid Search with cross-validation\n",
    "xgb_grid = GridSearchCV(estimator, param_grid, scoring=\"accuracy\", cv=5)\n",
    "xgb_grid.fit(X_train, y_train)\n",
    "\n",
    "# Get the best estimator\n",
    "xgb = xgb_grid.best_estimator_\n",
    "\n",
    "# Feature importance and selection\n",
    "xgb_fi = xgb.feature_importances_\n",
    "\n",
    "# Select features with non-zero importance\n",
    "index = [i for i, x in enumerate(xgb_fi) if x > 0]\n",
    "\n",
    "# Select relevant features for training and testing\n",
    "X_train_xgb = X_train.iloc[:, index]\n",
    "X_test_xgb = X_test.iloc[:, index]\n",
    "\n",
    "# Fit the model again with the selected features\n",
    "xgb.fit(X_train_xgb, y_train)\n",
    "\n",
    "# Make predictions\n",
    "ypred_train = xgb.predict(X_train_xgb)\n",
    "ypred_test = xgb.predict(X_test_xgb)\n",
    "\n",
    "# Print accuracy scores\n",
    "print(\"Train Accuracy:\", accuracy_score(y_train, ypred_train))\n",
    "print(\"Cross-validation score:\", cross_val_score(xgb, X_train_xgb, y_train, cv=5, scoring=\"accuracy\").mean())\n",
    "print(\"Test Accuracy:\", accuracy_score(y_test, ypred_test))\n"
   ]
  },
  {
   "cell_type": "code",
   "execution_count": 73,
   "id": "45a253c1",
   "metadata": {},
   "outputs": [],
   "source": [
    "#ans = pd.DataFrame(ypred_test, columns=[\"Survied\"])\n"
   ]
  },
  {
   "cell_type": "code",
   "execution_count": 74,
   "id": "8ff89a85",
   "metadata": {},
   "outputs": [],
   "source": [
    "#ans.to_csv(\"srk.csv\", index=False)"
   ]
  },
  {
   "cell_type": "markdown",
   "id": "ba4de94e-7a3f-4446-9f74-3a1f062225be",
   "metadata": {},
   "source": [
    "House loan"
   ]
  }
 ],
 "metadata": {
  "kernelspec": {
   "display_name": "Python 3 (ipykernel)",
   "language": "python",
   "name": "python3"
  },
  "language_info": {
   "codemirror_mode": {
    "name": "ipython",
    "version": 3
   },
   "file_extension": ".py",
   "mimetype": "text/x-python",
   "name": "python",
   "nbconvert_exporter": "python",
   "pygments_lexer": "ipython3",
   "version": "3.12.7"
  }
 },
 "nbformat": 4,
 "nbformat_minor": 5
}
